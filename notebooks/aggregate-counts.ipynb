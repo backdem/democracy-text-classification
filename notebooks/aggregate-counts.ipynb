{
 "cells": [
  {
   "cell_type": "code",
   "execution_count": 1,
   "id": "c5fdcd35-d09b-409a-83f2-6bb1c2491e47",
   "metadata": {},
   "outputs": [],
   "source": [
    "import pandas as pd"
   ]
  },
  {
   "cell_type": "code",
   "execution_count": 2,
   "id": "4ee12e7f-2950-43cb-b410-ba9624e47aa0",
   "metadata": {},
   "outputs": [
    {
     "name": "stderr",
     "output_type": "stream",
     "text": [
      "/var/folders/pj/wj7m849s68qcg6_lr0j03jgh0000gn/T/ipykernel_42440/4090809804.py:3: DtypeWarning: Columns (4,5,6,8,9,10,12,13,14,17,18,19,20,21) have mixed types. Specify dtype option on import or set low_memory=False.\n",
      "  df = pd.read_csv(corpus_file)\n"
     ]
    }
   ],
   "source": [
    "corpus_file = '../../data/democracy_all_predictions_130724.csv'\n",
    "keyword_file = '../../data/democracy_keywordextraction_aggregated_counts_240724.csv'\n",
    "df = pd.read_csv(corpus_file)\n",
    "df_keyword = pd.read_csv(keyword_file)\n",
    "#print(df)"
   ]
  },
  {
   "cell_type": "code",
   "execution_count": 3,
   "id": "18bb1899-2825-45ff-80a5-325ed37ee868",
   "metadata": {},
   "outputs": [
    {
     "name": "stdout",
     "output_type": "stream",
     "text": [
      "459931\n",
      "5084\n"
     ]
    }
   ],
   "source": [
    "print(df.shape[0])\n",
    "print(df_keyword.shape[0])"
   ]
  },
  {
   "cell_type": "code",
   "execution_count": 4,
   "id": "13df37da-f207-42ba-bb9e-2143f2b7ddc1",
   "metadata": {},
   "outputs": [
    {
     "name": "stdout",
     "output_type": "stream",
     "text": [
      "                                                 sentence country  year  \\\n",
      "157513  The reason is not new in Russia, which can onl...  russia  2018   \n",
      "\n",
      "       source dimension1_r1 dimension2_r1 backsliding_r1  start_idea_r1  \\\n",
      "157513    bti           NaN           NaN            NaN            NaN   \n",
      "\n",
      "       dimension0_r2 dimension1_r2  ... start_idea_r2  start_idea_r3  \\\n",
      "157513           NaN           NaN  ...           NaN            NaN   \n",
      "\n",
      "       dimension0_r1 correct_dimension expalained_ambiquous  dimension0  \\\n",
      "157513           NaN               NaN                  NaN         NaN   \n",
      "\n",
      "        correct_backsliding predicted_dim_roberta  \\\n",
      "157513                  NaN             ambiguous   \n",
      "\n",
      "       predicted_dim_roberta_no_ambiguous predicted_backsliding_123  \n",
      "157513                            liberal                       3.0  \n",
      "\n",
      "[1 rows x 26 columns]\n"
     ]
    }
   ],
   "source": [
    "print(df.sample(1))"
   ]
  },
  {
   "cell_type": "code",
   "execution_count": 5,
   "id": "3d2710ac-c7bd-4463-b0e8-db69a60719fa",
   "metadata": {},
   "outputs": [],
   "source": [
    "# Agregate dimensions as contry, year source dimension\n",
    "df_agg_roberta = df.groupby(['country', 'year', 'source', 'predicted_dim_roberta']).size().reset_index(name='dim_roberta_agg_count')\n",
    "df_agg_roberta_no_ambiguous = df.groupby(['country', 'year', 'source', 'predicted_dim_roberta_no_ambiguous']).size().reset_index(name='dim_roberta_no_ambiguous_agg_count')\n",
    "# Sentiment groupings\n",
    "df_agg_roberta_sentiment = df.groupby(['country', 'year', 'source', 'predicted_backsliding_123', 'predicted_dim_roberta']).size().reset_index(name='backsliding_roberta_agg_count')\n",
    "df_agg_roberta__no_ambiguous_sentiment = df.groupby(['country', 'year', 'source', 'predicted_backsliding_123', 'predicted_dim_roberta_no_ambiguous']).size().reset_index(name='backsliding_roberta_no_ambiguous_agg_count')\n",
    "# Corpus size by country, source, year\n",
    "df_agg_corpus = df.groupby(['country', 'year', 'source']).size().reset_index(name='sentence_count')\n"
   ]
  },
  {
   "cell_type": "code",
   "execution_count": 6,
   "id": "9b7c7e71-ee03-4e7d-a9ca-5a69d0d01d16",
   "metadata": {},
   "outputs": [],
   "source": [
    "df_keyword = pd.read_csv(keyword_file)\n",
    "df_keyword.rename(columns={'dimension': 'dim_keyword_dictionary', 'count': 'dim_keyword_dictionary_agg_count'}, inplace=True)\n",
    "#print(df_keyword)"
   ]
  },
  {
   "cell_type": "code",
   "execution_count": 7,
   "id": "31bb4fe6-2966-4347-af1f-eb760b7ada18",
   "metadata": {},
   "outputs": [],
   "source": [
    "#df_temp_1 = pd.merge(df_agg_roberta, df_agg_roberta_no_ambiguous, on=['country', 'year', 'source'], how='left')\n",
    "df_temp_1 = pd.merge(df_agg_roberta, df_agg_roberta_no_ambiguous, left_on=['country', 'year', 'source', 'predicted_dim_roberta'], right_on=['country', 'year', 'source','predicted_dim_roberta_no_ambiguous'], how='outer')\n",
    "df_temp_2 = pd.merge(df_temp_1, df_keyword, left_on=['country', 'year', 'source', 'predicted_dim_roberta'], right_on=['country', 'year', 'source','dim_keyword_dictionary'], how='outer')\n",
    "\n",
    "#df_temp_3 = pd.merge(df_temp_2, df_agg_roberta_sentiment, on=['country', 'year', 'source', 'predicted_dim_roberta'], how='left')\n",
    "#df_temp_3 = pd.merge(df_temp_2, df_keyword, on=['country', 'year', 'source'], how='outer')\n",
    "df_agg_all =  pd.merge(df_temp_2, df_agg_corpus, on=['country', 'year', 'source'], how='left')"
   ]
  },
  {
   "cell_type": "code",
   "execution_count": 8,
   "id": "2b9f8807-0b4a-4c78-9ad6-e563bb2846bb",
   "metadata": {},
   "outputs": [],
   "source": [
    "def fill_blanks(row):\n",
    "    if(pd.isna(row['predicted_dim_roberta_no_ambiguous'])):\n",
    "        row['predicted_dim_roberta_no_ambiguous'] = row['predicted_dim_roberta']\n",
    "        row['dim_roberta_no_ambiguous_agg_count'] = 0\n",
    "    if(pd.isna(row['dim_keyword_dictionary'])):\n",
    "        row['dim_keyword_dictionary'] = row['predicted_dim_roberta']\n",
    "        row['dim_keyword_dictionary_agg_count'] = 0\n",
    "    return row\n",
    "def fill_blanks_back(row):\n",
    "    if(pd.isna(row['predicted_dim_roberta_no_ambiguous'])):\n",
    "        row['predicted_dim_roberta_no_ambiguous'] = row['predicted_dim_roberta']\n",
    "        row['backsliding_roberta_no_ambiguous_agg_count'] = 0\n",
    "    return row   "
   ]
  },
  {
   "cell_type": "code",
   "execution_count": 9,
   "id": "e392cb50-0eec-48b9-bfd4-4437d9697b1b",
   "metadata": {},
   "outputs": [],
   "source": [
    "df_agg_all = df_agg_all.apply(fill_blanks, axis=1)"
   ]
  },
  {
   "cell_type": "code",
   "execution_count": 10,
   "id": "2d4d37ed-a7b7-4e39-85a7-a3cf28c094a7",
   "metadata": {},
   "outputs": [],
   "source": [
    "df_back_1 = pd.merge(df_agg_roberta_sentiment, df_agg_roberta__no_ambiguous_sentiment, left_on=['country', 'year', 'source', 'predicted_backsliding_123', 'predicted_dim_roberta'], right_on=['country', 'year', 'source', 'predicted_backsliding_123', 'predicted_dim_roberta_no_ambiguous'], how='outer')\n",
    "df_back_1 = df_back_1.apply(fill_blanks_back, axis=1)\n",
    "df_back_1 = df_back_1.rename(columns={'predicted_backsliding_123': 'backsliding'})\n",
    "df_agg_back =  pd.merge(df_back_1, df_agg_corpus, on=['country', 'year', 'source'], how='left')"
   ]
  },
  {
   "cell_type": "code",
   "execution_count": 11,
   "id": "9e2d010a-ac45-4596-bff8-db52d3ce801d",
   "metadata": {},
   "outputs": [
    {
     "name": "stdout",
     "output_type": "stream",
     "text": [
      "              country  year                      source  backsliding  \\\n",
      "0             albania  2002                       greco          1.0   \n",
      "1             albania  2002                       greco          1.0   \n",
      "2             albania  2002                       greco          1.0   \n",
      "3             albania  2002                       greco          1.0   \n",
      "4             albania  2002                       greco          1.0   \n",
      "...               ...   ...                         ...          ...   \n",
      "20880  united-kingdom  2020  freedomhouse_freedom-world          1.0   \n",
      "20881  united-kingdom  2021  freedomhouse_freedom-world          1.0   \n",
      "20882  united-kingdom  2022  freedomhouse_freedom-world          1.0   \n",
      "20883  united-kingdom  2022  freedomhouse_freedom-world          3.0   \n",
      "20884  united-kingdom  2023  freedomhouse_freedom-world          1.0   \n",
      "\n",
      "      predicted_dim_roberta  backsliding_roberta_agg_count  \\\n",
      "0                 ambiguous                           52.0   \n",
      "1                 electoral                            4.0   \n",
      "2                   liberal                           87.0   \n",
      "3                     media                            5.0   \n",
      "4                  no_class                            5.0   \n",
      "...                     ...                            ...   \n",
      "20880                   NaN                            NaN   \n",
      "20881                   NaN                            NaN   \n",
      "20882                   NaN                            NaN   \n",
      "20883                   NaN                            NaN   \n",
      "20884                   NaN                            NaN   \n",
      "\n",
      "      predicted_dim_roberta_no_ambiguous  \\\n",
      "0                              ambiguous   \n",
      "1                              electoral   \n",
      "2                                liberal   \n",
      "3                                  media   \n",
      "4                               no_class   \n",
      "...                                  ...   \n",
      "20880                           no_class   \n",
      "20881                           no_class   \n",
      "20882                           no_class   \n",
      "20883                      participatory   \n",
      "20884                           no_class   \n",
      "\n",
      "       backsliding_roberta_no_ambiguous_agg_count  sentence_count  \n",
      "0                                             0.0             690  \n",
      "1                                             4.0             690  \n",
      "2                                           130.0             690  \n",
      "3                                             2.0             690  \n",
      "4                                             0.0             690  \n",
      "...                                           ...             ...  \n",
      "20880                                         2.0             160  \n",
      "20881                                         2.0             156  \n",
      "20882                                         2.0             157  \n",
      "20883                                         1.0             157  \n",
      "20884                                         2.0             158  \n",
      "\n",
      "[20885 rows x 9 columns]\n"
     ]
    }
   ],
   "source": [
    "print(df_agg_back)"
   ]
  },
  {
   "cell_type": "code",
   "execution_count": 12,
   "id": "f4ab7642-4376-4526-a191-133ec55e5e6c",
   "metadata": {},
   "outputs": [
    {
     "name": "stdout",
     "output_type": "stream",
     "text": [
      "Saving ../../data/democracy_aggregate_counts_for_backsliding_250724.csv\n",
      "Saving ../../data/democracy_aggregate_counts_for_backsliding_250724.xlsx\n"
     ]
    }
   ],
   "source": [
    "from datetime import datetime\n",
    "file_name = datetime.now().strftime('../../data/democracy_aggregate_counts_for_backsliding_%d%m%y')\n",
    "print(f\"Saving {file_name}.csv\")\n",
    "df_agg_back.to_csv(f\"{file_name}.csv\", index=False)\n",
    "print(f\"Saving {file_name}.xlsx\")\n",
    "df_agg_back.to_excel(f\"{file_name}.xlsx\", index=False)"
   ]
  },
  {
   "cell_type": "code",
   "execution_count": 13,
   "id": "dc2e16c5-9d86-446f-b733-dcf45f71d522",
   "metadata": {},
   "outputs": [
    {
     "name": "stdout",
     "output_type": "stream",
     "text": [
      "Saving ../../data/democracy_aggregate_counts_for_dimenions_250724.csv\n",
      "Saving ../../data/democracy_aggregate_counts_for_dimenions_250724.xlsx\n"
     ]
    }
   ],
   "source": [
    "from datetime import datetime\n",
    "file_name = datetime.now().strftime('../../data/democracy_aggregate_counts_for_dimenions_%d%m%y')\n",
    "print(f\"Saving {file_name}.csv\")\n",
    "df_agg_all.to_csv(f\"{file_name}.csv\", index=False)\n",
    "print(f\"Saving {file_name}.xlsx\")\n",
    "df_agg_all.to_excel(f\"{file_name}.xlsx\", index=False)"
   ]
  },
  {
   "cell_type": "code",
   "execution_count": 14,
   "id": "a2eb3541-3bdb-490f-b4a5-a6cee22389eb",
   "metadata": {},
   "outputs": [
    {
     "name": "stdout",
     "output_type": "stream",
     "text": [
      "done\n"
     ]
    }
   ],
   "source": [
    "print(\"done\")"
   ]
  },
  {
   "cell_type": "code",
   "execution_count": 15,
   "id": "0086b666-5ccb-481a-bb27-3f525838300c",
   "metadata": {},
   "outputs": [
    {
     "name": "stdout",
     "output_type": "stream",
     "text": [
      "Index(['country', 'year', 'source', 'predicted_dim_roberta',\n",
      "       'dim_roberta_agg_count', 'predicted_dim_roberta_no_ambiguous',\n",
      "       'dim_roberta_no_ambiguous_agg_count', 'dim_keyword_dictionary',\n",
      "       'dim_keyword_dictionary_agg_count', 'sentence_count'],\n",
      "      dtype='object')\n"
     ]
    }
   ],
   "source": [
    "test_df = pd.read_csv(f\"{file_name}.csv\")\n",
    "print(test_df.columns)"
   ]
  },
  {
   "cell_type": "code",
   "execution_count": null,
   "id": "1166a1f9-6801-4793-a1a6-162ba91639b7",
   "metadata": {},
   "outputs": [],
   "source": []
  }
 ],
 "metadata": {
  "kernelspec": {
   "display_name": "Python 3 (ipykernel)",
   "language": "python",
   "name": "python3"
  },
  "language_info": {
   "codemirror_mode": {
    "name": "ipython",
    "version": 3
   },
   "file_extension": ".py",
   "mimetype": "text/x-python",
   "name": "python",
   "nbconvert_exporter": "python",
   "pygments_lexer": "ipython3",
   "version": "3.11.7"
  }
 },
 "nbformat": 4,
 "nbformat_minor": 5
}
