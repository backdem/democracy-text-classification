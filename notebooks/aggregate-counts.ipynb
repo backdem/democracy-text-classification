{
 "cells": [
  {
   "cell_type": "code",
   "execution_count": 1,
   "id": "c5fdcd35-d09b-409a-83f2-6bb1c2491e47",
   "metadata": {},
   "outputs": [],
   "source": [
    "import pandas as pd"
   ]
  },
  {
   "cell_type": "code",
   "execution_count": 6,
   "id": "4ee12e7f-2950-43cb-b410-ba9624e47aa0",
   "metadata": {},
   "outputs": [
    {
     "name": "stderr",
     "output_type": "stream",
     "text": [
      "/var/folders/pj/wj7m849s68qcg6_lr0j03jgh0000gn/T/ipykernel_44153/2593485023.py:3: DtypeWarning: Columns (4,5,6,8,9,10,12,13,14,17,18,19,20,21) have mixed types. Specify dtype option on import or set low_memory=False.\n",
      "  df = pd.read_csv(corpus_file)\n"
     ]
    }
   ],
   "source": [
    "corpus_file = '../../data/democracy_all_predictions_020824.csv'\n",
    "keyword_file = '../../data/democracy_keywordextraction_aggregated_counts_240724.csv'\n",
    "df = pd.read_csv(corpus_file)\n",
    "df_keyword = pd.read_csv(keyword_file)\n",
    "#print(df)"
   ]
  },
  {
   "cell_type": "code",
   "execution_count": 5,
   "id": "23b2ff40-ac6c-4928-896e-15ab8e9d4288",
   "metadata": {},
   "outputs": [],
   "source": [
    "# Some checks on dataset\n",
    "# Georgia 2006 GRECO has only 7 sentences\n",
    "#scraped_sources = '../../data/democracy_reports_corpus_290724.csv'\n",
    "#df_s = pd.read_csv(scraped_sources)\n",
    "#filtered_df = df_s[(df_s['country'] == 'georgia') & (df_s['source'] == 'greco') & (df_s['year'] == 2006)]\n",
    "#print(filtered_df)"
   ]
  },
  {
   "cell_type": "code",
   "execution_count": 99,
   "id": "3d2710ac-c7bd-4463-b0e8-db69a60719fa",
   "metadata": {},
   "outputs": [],
   "source": [
    "# Agregate dimensions as contry, year source dimension\n",
    "df_agg_roberta = df.groupby(['country', 'year', 'source', 'predicted_dim_roberta_unbalanced']).size().unstack(fill_value=0).stack().reset_index(name='dim_roberta_unbalanced_agg_count')\n",
    "df_agg_roberta_no_ambiguous = df.groupby(['country', 'year', 'source', 'predicted_dim_roberta_no_ambiguous_unbalanced']).size().unstack(fill_value=0).stack().reset_index(name='dim_roberta_no_ambiguous_unbalanced_agg_count')\n",
    "#df_agg_roberta_no_ambiguous_balanced = df.groupby(['country', 'year', 'source', 'predicted_dim_roberta_no_ambiguous_balanced']).size().reset_index(name='dim_roberta_no_ambiguous_balanced_agg_count')\n",
    "\n",
    "# Sentiment groupings\n",
    "#df_agg_roberta_sentiment = df.groupby(['country', 'year', 'source', 'predicted_backsliding_123', 'predicted_dim_roberta_unbalanced']).size().reset_index(name='backsliding_roberta_agg_count')\n",
    "df_agg_roberta_sentiment = df.groupby(['country', 'year', 'source', 'predicted_backsliding_123', 'predicted_dim_roberta_unbalanced']).size().unstack(fill_value=0).stack().reset_index(name='backsliding_roberta_agg_count')\n",
    "df_agg_roberta__no_ambiguous_sentiment = df.groupby(['country', 'year', 'source', 'predicted_backsliding_123', 'predicted_dim_roberta_no_ambiguous_unbalanced']).size().unstack(fill_value=0).stack().reset_index(name='backsliding_roberta_no_ambiguous_unbalanced_agg_count')\n",
    "# Corpus size by country, source, year\n",
    "df_agg_corpus = df.groupby(['country', 'year', 'source']).size().reset_index(name='sentence_count')\n"
   ]
  },
  {
   "cell_type": "code",
   "execution_count": 100,
   "id": "9b7c7e71-ee03-4e7d-a9ca-5a69d0d01d16",
   "metadata": {},
   "outputs": [],
   "source": [
    "df_keyword = pd.read_csv(keyword_file)\n",
    "df_keyword.rename(columns={'dimension': 'dim_keyword_dictionary', 'count': 'dim_keyword_dictionary_agg_count'}, inplace=True)\n",
    "#print(df_keyword)"
   ]
  },
  {
   "cell_type": "code",
   "execution_count": 101,
   "id": "31bb4fe6-2966-4347-af1f-eb760b7ada18",
   "metadata": {},
   "outputs": [],
   "source": [
    "#df_temp_1 = pd.merge(df_agg_roberta, df_agg_roberta_no_ambiguous, on=['country', 'year', 'source'], how='left')\n",
    "df_temp_1 = pd.merge(df_agg_roberta, df_agg_roberta_no_ambiguous, left_on=['country', 'year', 'source', 'predicted_dim_roberta_unbalanced'], right_on=['country', 'year', 'source','predicted_dim_roberta_no_ambiguous_unbalanced'], how='outer')\n",
    "df_temp_2 = pd.merge(df_temp_1, df_keyword, left_on=['country', 'year', 'source', 'predicted_dim_roberta_unbalanced'], right_on=['country', 'year', 'source','dim_keyword_dictionary'], how='outer')\n",
    "\n",
    "#df_temp_3 = pd.merge(df_temp_2, df_agg_roberta_sentiment, on=['country', 'year', 'source', 'predicted_dim_roberta'], how='left')\n",
    "#df_temp_3 = pd.merge(df_temp_2, df_keyword, on=['country', 'year', 'source'], how='outer')\n",
    "df_agg_all =  pd.merge(df_temp_2, df_agg_corpus, on=['country', 'year', 'source'], how='left')"
   ]
  },
  {
   "cell_type": "code",
   "execution_count": 102,
   "id": "2b9f8807-0b4a-4c78-9ad6-e563bb2846bb",
   "metadata": {},
   "outputs": [],
   "source": [
    "def fill_blanks(row):\n",
    "    if(pd.isna(row['predicted_dim_roberta_no_ambiguous_unbalanced'])):\n",
    "        row['predicted_dim_roberta_no_ambiguous_unbalanced'] = row['predicted_dim_roberta_unbalanced']\n",
    "        row['dim_roberta_no_ambiguous_unbalanced_agg_count'] = 0\n",
    "    if(pd.isna(row['dim_keyword_dictionary'])):\n",
    "        row['dim_keyword_dictionary'] = row['predicted_dim_roberta_unbalanced']\n",
    "        row['dim_keyword_dictionary_agg_count'] = 0\n",
    "    return row\n",
    "def fill_blanks_back(row):\n",
    "    if(pd.isna(row['predicted_dim_roberta_no_ambiguous_unbalanced'])):\n",
    "        row['predicted_dim_roberta_no_ambiguous_unbalanced'] = row['predicted_dim_roberta_unbalanced']\n",
    "        row['backsliding_roberta_no_ambiguous_unbalanced_agg_count'] = 0\n",
    "    return row   "
   ]
  },
  {
   "cell_type": "code",
   "execution_count": 103,
   "id": "e392cb50-0eec-48b9-bfd4-4437d9697b1b",
   "metadata": {},
   "outputs": [],
   "source": [
    "df_agg_all = df_agg_all.apply(fill_blanks, axis=1)"
   ]
  },
  {
   "cell_type": "code",
   "execution_count": 104,
   "id": "f4ad33f5-36a9-4f2b-936e-e229baccc286",
   "metadata": {},
   "outputs": [
    {
     "name": "stdout",
     "output_type": "stream",
     "text": [
      "23628\n"
     ]
    }
   ],
   "source": [
    "print(df_agg_roberta_sentiment.shape[0])"
   ]
  },
  {
   "cell_type": "code",
   "execution_count": 105,
   "id": "2d4d37ed-a7b7-4e39-85a7-a3cf28c094a7",
   "metadata": {},
   "outputs": [],
   "source": [
    "df_back_1 = pd.merge(df_agg_roberta_sentiment, df_agg_roberta__no_ambiguous_sentiment, left_on=['country', 'year', 'source', 'predicted_backsliding_123', 'predicted_dim_roberta_unbalanced'], right_on=['country', 'year', 'source', 'predicted_backsliding_123', 'predicted_dim_roberta_no_ambiguous_unbalanced'], how='outer')\n",
    "df_back_1 = df_back_1.apply(fill_blanks_back, axis=1)\n",
    "df_back_1 = df_back_1.rename(columns={'predicted_backsliding_123': 'backsliding'})\n",
    "df_agg_back =  pd.merge(df_back_1, df_agg_corpus, on=['country', 'year', 'source'], how='left')"
   ]
  },
  {
   "cell_type": "code",
   "execution_count": null,
   "id": "8e5068b4-765e-471f-9bac-821e60db2e49",
   "metadata": {},
   "outputs": [],
   "source": []
  },
  {
   "cell_type": "code",
   "execution_count": 106,
   "id": "9e2d010a-ac45-4596-bff8-db52d3ce801d",
   "metadata": {},
   "outputs": [],
   "source": [
    "#print(df_agg_back)\n",
    "#print(df_back_1)"
   ]
  },
  {
   "cell_type": "code",
   "execution_count": 107,
   "id": "f4ab7642-4376-4526-a191-133ec55e5e6c",
   "metadata": {},
   "outputs": [
    {
     "name": "stdout",
     "output_type": "stream",
     "text": [
      "Saving ../../data/democracy_aggregate_counts_for_backsliding_020824.csv\n",
      "Saving ../../data/democracy_aggregate_counts_for_backsliding_020824.xlsx\n"
     ]
    }
   ],
   "source": [
    "from datetime import datetime\n",
    "file_name = datetime.now().strftime('../../data/democracy_aggregate_counts_for_backsliding_%d%m%y')\n",
    "#file_name = datetime.now().strftime('temp_democracy_aggregate_counts_for_backsliding_%d%m%y')\n",
    "\n",
    "print(f\"Saving {file_name}.csv\")\n",
    "df_agg_back.to_csv(f\"{file_name}.csv\", index=False)\n",
    "print(f\"Saving {file_name}.xlsx\")\n",
    "df_agg_back.to_excel(f\"{file_name}.xlsx\", index=False)"
   ]
  },
  {
   "cell_type": "code",
   "execution_count": 108,
   "id": "cc991cf0-f3c9-4a27-8671-35e048adb1ba",
   "metadata": {},
   "outputs": [
    {
     "name": "stdout",
     "output_type": "stream",
     "text": [
      "Index(['country', 'year', 'source', 'backsliding',\n",
      "       'predicted_dim_roberta_unbalanced', 'backsliding_roberta_agg_count',\n",
      "       'predicted_dim_roberta_no_ambiguous_unbalanced',\n",
      "       'backsliding_roberta_no_ambiguous_unbalanced_agg_count',\n",
      "       'sentence_count'],\n",
      "      dtype='object')\n",
      "Any null values: False\n",
      "Count of null values in each column:\n",
      " country                                                  0\n",
      "year                                                     0\n",
      "source                                                   0\n",
      "backsliding                                              0\n",
      "predicted_dim_roberta_unbalanced                         0\n",
      "backsliding_roberta_agg_count                            0\n",
      "predicted_dim_roberta_no_ambiguous_unbalanced            0\n",
      "backsliding_roberta_no_ambiguous_unbalanced_agg_count    0\n",
      "sentence_count                                           0\n",
      "dtype: int64\n"
     ]
    }
   ],
   "source": [
    "test_df = pd.read_csv(f\"{file_name}.csv\")\n",
    "print(test_df.columns)\n",
    "any_nulls = test_df.isnull().values.any()\n",
    "\n",
    "print(\"Any null values:\", any_nulls)\n",
    "# Get the count of null values in each column\n",
    "null_counts = test_df.isnull().sum()\n",
    "\n",
    "print(\"Count of null values in each column:\\n\", null_counts)\n"
   ]
  },
  {
   "cell_type": "code",
   "execution_count": 111,
   "id": "dc2e16c5-9d86-446f-b733-dcf45f71d522",
   "metadata": {},
   "outputs": [
    {
     "name": "stdout",
     "output_type": "stream",
     "text": [
      "Saving ../../data/democracy_aggregate_counts_for_dimensions_020824.csv\n",
      "Saving ../../data/democracy_aggregate_counts_for_dimensions_020824.xlsx\n"
     ]
    }
   ],
   "source": [
    "from datetime import datetime\n",
    "file_name = datetime.now().strftime('../../data/democracy_aggregate_counts_for_dimensions_%d%m%y')\n",
    "print(f\"Saving {file_name}.csv\")\n",
    "df_agg_all.to_csv(f\"{file_name}.csv\", index=False)\n",
    "print(f\"Saving {file_name}.xlsx\")\n",
    "df_agg_all.to_excel(f\"{file_name}.xlsx\", index=False)"
   ]
  },
  {
   "cell_type": "code",
   "execution_count": 110,
   "id": "0086b666-5ccb-481a-bb27-3f525838300c",
   "metadata": {},
   "outputs": [
    {
     "name": "stdout",
     "output_type": "stream",
     "text": [
      "Index(['country', 'year', 'source', 'predicted_dim_roberta_unbalanced',\n",
      "       'dim_roberta_unbalanced_agg_count',\n",
      "       'predicted_dim_roberta_no_ambiguous_unbalanced',\n",
      "       'dim_roberta_no_ambiguous_unbalanced_agg_count',\n",
      "       'dim_keyword_dictionary', 'dim_keyword_dictionary_agg_count',\n",
      "       'sentence_count'],\n",
      "      dtype='object')\n",
      "Any null values: False\n",
      "Count of null values in each column:\n",
      " country                                          0\n",
      "year                                             0\n",
      "source                                           0\n",
      "predicted_dim_roberta_unbalanced                 0\n",
      "dim_roberta_unbalanced_agg_count                 0\n",
      "predicted_dim_roberta_no_ambiguous_unbalanced    0\n",
      "dim_roberta_no_ambiguous_unbalanced_agg_count    0\n",
      "dim_keyword_dictionary                           0\n",
      "dim_keyword_dictionary_agg_count                 0\n",
      "sentence_count                                   0\n",
      "dtype: int64\n"
     ]
    }
   ],
   "source": [
    "test_df = pd.read_csv(f\"{file_name}.csv\")\n",
    "print(test_df.columns)\n",
    "any_nulls = test_df.isnull().values.any()\n",
    "\n",
    "print(\"Any null values:\", any_nulls)\n",
    "# Get the count of null values in each column\n",
    "null_counts = test_df.isnull().sum()\n",
    "\n",
    "print(\"Count of null values in each column:\\n\", null_counts)"
   ]
  },
  {
   "cell_type": "code",
   "execution_count": null,
   "id": "1166a1f9-6801-4793-a1a6-162ba91639b7",
   "metadata": {},
   "outputs": [],
   "source": []
  }
 ],
 "metadata": {
  "kernelspec": {
   "display_name": "Python 3 (ipykernel)",
   "language": "python",
   "name": "python3"
  },
  "language_info": {
   "codemirror_mode": {
    "name": "ipython",
    "version": 3
   },
   "file_extension": ".py",
   "mimetype": "text/x-python",
   "name": "python",
   "nbconvert_exporter": "python",
   "pygments_lexer": "ipython3",
   "version": "3.11.7"
  }
 },
 "nbformat": 4,
 "nbformat_minor": 5
}
