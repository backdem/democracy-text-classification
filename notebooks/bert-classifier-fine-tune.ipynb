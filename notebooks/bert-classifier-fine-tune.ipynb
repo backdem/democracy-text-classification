{
 "cells": [
  {
   "cell_type": "code",
   "execution_count": 1,
   "id": "da8588ef-60db-4f9c-a6de-e9f63d03129a",
   "metadata": {
    "tags": []
   },
   "outputs": [
    {
     "name": "stderr",
     "output_type": "stream",
     "text": [
      "/Users/reggie/Workspace/backdem/democracy-text-classification/notebooks/prep_input_data.py:85: DtypeWarning: Columns (4,5,6,7,9,10,11,12) have mixed types. Specify dtype option on import or set low_memory=False.\n",
      "  df = pd.read_csv(corpus_file, dtype={'year': str},comment='#')\n"
     ]
    }
   ],
   "source": [
    "# N.B. Activate .env ?\n",
    "import numpy as np\n",
    "import pandas as pd\n",
    "#import pyarrow\n",
    "from sklearn import metrics\n",
    "import transformers\n",
    "import torch\n",
    "from torch.utils.data import Dataset, DataLoader, RandomSampler, SequentialSampler\n",
    "from transformers import BertTokenizer, BertModel, BertConfig\n",
    "from prep_input_data import get_vectorized_labelled_data\n"
   ]
  },
  {
   "cell_type": "code",
   "execution_count": 2,
   "id": "e868df8d-0e2b-45d9-bf04-e88c8e98cd4d",
   "metadata": {},
   "outputs": [
    {
     "name": "stdout",
     "output_type": "stream",
     "text": [
      "Using device: cpu\n"
     ]
    }
   ],
   "source": [
    "from torch import cuda\n",
    "device = 'cuda' if cuda.is_available() else 'cpu'\n",
    "print(\"Using device: \" + device)"
   ]
  },
  {
   "cell_type": "code",
   "execution_count": 3,
   "id": "2edcfaa5-02a9-4cc4-b35f-e2ae6e2bc180",
   "metadata": {},
   "outputs": [],
   "source": [
    "import urllib\n",
    "import os\n",
    "# Corpus and dictionary files to use\n",
    "corpus_file = '../../data/democracy_reports_corpus_annelisa_9_fixed.csv'"
   ]
  },
  {
   "cell_type": "code",
   "execution_count": 4,
   "id": "ccfcf4d8-fb2b-4293-b286-51c7ff747efc",
   "metadata": {},
   "outputs": [
    {
     "name": "stdout",
     "output_type": "stream",
     "text": [
      "                                                 sentence      country  year  \\\n",
      "455837  the public prosecution service is led by the b...  netherlands  2020   \n",
      "\n",
      "                source            dimension1 dimension2  backsliding  \\\n",
      "455837  eu_rule_of_law  liberal institutions        NaN          3.0   \n",
      "\n",
      "       cat_4_sentence_nuance  start_idea comments undefined0 undefined1  \\\n",
      "455837                   NaN         1.0      NaN        NaN        NaN   \n",
      "\n",
      "       consensus dimension0     label_vector  \n",
      "455837       NaN    liberal  [0, 0, 1, 0, 0]  \n"
     ]
    },
    {
     "name": "stderr",
     "output_type": "stream",
     "text": [
      "/Users/reggie/Workspace/backdem/democracy-text-classification/notebooks/prep_input_data.py:85: DtypeWarning: Columns (4,5,6,7,9,10,11,12) have mixed types. Specify dtype option on import or set low_memory=False.\n",
      "  df = pd.read_csv(corpus_file, dtype={'year': str},comment='#')\n"
     ]
    }
   ],
   "source": [
    "df_labelled = get_vectorized_labelled_data(corpus_file)\n",
    "print(df_labelled.sample(1))"
   ]
  },
  {
   "cell_type": "code",
   "execution_count": 7,
   "id": "b0c84808-a35d-43c7-874a-e7f5405ca49d",
   "metadata": {},
   "outputs": [
    {
     "name": "stdout",
     "output_type": "stream",
     "text": [
      "Labels: ['ambiguous', 'electoral', 'liberal', 'media', 'participatory']\n"
     ]
    }
   ],
   "source": [
    "# Get label names\n",
    "labels = sorted(df_labelled['dimension0'].dropna().unique())\n",
    "print(f'Labels: {labels}')"
   ]
  },
  {
   "cell_type": "code",
   "execution_count": 8,
   "id": "83645662-fac0-4e9c-ac4d-1126c39b8b93",
   "metadata": {
    "tags": []
   },
   "outputs": [
    {
     "data": {
      "text/plain": [
       "<Axes: ylabel='dimension0'>"
      ]
     },
     "execution_count": 8,
     "metadata": {},
     "output_type": "execute_result"
    },
    {
     "data": {
      "image/png": "[encoded data removed]",
      "text/plain": [
       "<Figure size 640x480 with 1 Axes>"
      ]
     },
     "metadata": {},
     "output_type": "display_data"
    }
   ],
   "source": [
    "# Count the different classes to check how balanced they are\n",
    "value_counts_dimension1 = df_labelled['dimension0'].value_counts()\n",
    "value_counts_dimension1.sort_values().plot(kind=\"barh\")"
   ]
  },
  {
   "cell_type": "code",
   "execution_count": 9,
   "id": "b06f297b-13c1-4775-b201-bc4b0d92d24a",
   "metadata": {},
   "outputs": [],
   "source": [
    "from transformers import BertTokenizer\n",
    "FRACTION_OF_DS_TO_USE = 1\n",
    "MAX_LEN = 256\n",
    "TRAIN_BATCH_SIZE = 8\n",
    "VALID_BATCH_SIZE = 4\n",
    "EPOCHS = 10\n",
    "LEARNING_RATE = 1e-05\n",
    "NO_LABELS = len(labels)\n",
    "MAX_LOSS = 0.05\n",
    "tokenizer = BertTokenizer.from_pretrained('bert-base-uncased', do_lower_case = True)"
   ]
  },
  {
   "cell_type": "code",
   "execution_count": 10,
   "id": "d8340b0d-717f-4135-a422-a0d9d8e83059",
   "metadata": {},
   "outputs": [
    {
     "data": {
      "text/html": [
       "<div>\n",
       "<style scoped>\n",
       "    .dataframe tbody tr th:only-of-type {\n",
       "        vertical-align: middle;\n",
       "    }\n",
       "\n",
       "    .dataframe tbody tr th {\n",
       "        vertical-align: top;\n",
       "    }\n",
       "\n",
       "    .dataframe thead th {\n",
       "        text-align: right;\n",
       "    }\n",
       "</style>\n",
       "<table border=\"1\" class=\"dataframe\">\n",
       "  <thead>\n",
       "    <tr style=\"text-align: right;\">\n",
       "      <th></th>\n",
       "      <th>sentence</th>\n",
       "      <th>label_vector</th>\n",
       "    </tr>\n",
       "  </thead>\n",
       "  <tbody>\n",
       "    <tr>\n",
       "      <th>41315</th>\n",
       "      <td>\"In addition, local authorities do not usually...</td>\n",
       "      <td>[0, 0, 0, 0, 1]</td>\n",
       "    </tr>\n",
       "    <tr>\n",
       "      <th>41372</th>\n",
       "      <td>\"In May and June, Žurnal published a series of...</td>\n",
       "      <td>[0, 0, 1, 0, 0]</td>\n",
       "    </tr>\n",
       "    <tr>\n",
       "      <th>457844</th>\n",
       "      <td>it may also file a complaint with the slovak c...</td>\n",
       "      <td>[0, 0, 1, 0, 0]</td>\n",
       "    </tr>\n",
       "    <tr>\n",
       "      <th>1429</th>\n",
       "      <td>\"They included failure to check voters’ person...</td>\n",
       "      <td>[0, 1, 0, 0, 0]</td>\n",
       "    </tr>\n",
       "    <tr>\n",
       "      <th>659</th>\n",
       "      <td>\"Score change: The score declined from 4 to 3 ...</td>\n",
       "      <td>[0, 1, 0, 0, 0]</td>\n",
       "    </tr>\n",
       "    <tr>\n",
       "      <th>455769</th>\n",
       "      <td>currently, the minister and the council for th...</td>\n",
       "      <td>[0, 0, 1, 0, 0]</td>\n",
       "    </tr>\n",
       "    <tr>\n",
       "      <th>8473</th>\n",
       "      <td>\"There are no major threats to civilians’ phys...</td>\n",
       "      <td>[0, 0, 1, 0, 0]</td>\n",
       "    </tr>\n",
       "    <tr>\n",
       "      <th>64010</th>\n",
       "      <td>\"For the first time, whistleblower protection ...</td>\n",
       "      <td>[0, 0, 1, 0, 0]</td>\n",
       "    </tr>\n",
       "    <tr>\n",
       "      <th>1140</th>\n",
       "      <td>\"In 2017, the authorities extended a preexisti...</td>\n",
       "      <td>[0, 0, 1, 0, 0]</td>\n",
       "    </tr>\n",
       "    <tr>\n",
       "      <th>16369</th>\n",
       "      <td>\"Nevertheless, the protest movement prompted L...</td>\n",
       "      <td>[0, 0, 1, 0, 0]</td>\n",
       "    </tr>\n",
       "  </tbody>\n",
       "</table>\n",
       "</div>"
      ],
      "text/plain": [
       "                                                 sentence     label_vector\n",
       "41315   \"In addition, local authorities do not usually...  [0, 0, 0, 0, 1]\n",
       "41372   \"In May and June, Žurnal published a series of...  [0, 0, 1, 0, 0]\n",
       "457844  it may also file a complaint with the slovak c...  [0, 0, 1, 0, 0]\n",
       "1429    \"They included failure to check voters’ person...  [0, 1, 0, 0, 0]\n",
       "659     \"Score change: The score declined from 4 to 3 ...  [0, 1, 0, 0, 0]\n",
       "455769  currently, the minister and the council for th...  [0, 0, 1, 0, 0]\n",
       "8473    \"There are no major threats to civilians’ phys...  [0, 0, 1, 0, 0]\n",
       "64010   \"For the first time, whistleblower protection ...  [0, 0, 1, 0, 0]\n",
       "1140    \"In 2017, the authorities extended a preexisti...  [0, 0, 1, 0, 0]\n",
       "16369   \"Nevertheless, the protest movement prompted L...  [0, 0, 1, 0, 0]"
      ]
     },
     "execution_count": 10,
     "metadata": {},
     "output_type": "execute_result"
    }
   ],
   "source": [
    "# Use part of the dataset\n",
    "new_df = df_labelled.sample(frac=FRACTION_OF_DS_TO_USE, random_state=200)\n",
    "# Display a sample of the dataset\n",
    "new_df.sample(10)[['sentence', 'label_vector']]"
   ]
  },
  {
   "cell_type": "code",
   "execution_count": 11,
   "id": "caf982b0-ceba-4f6a-b82a-de77aa727c83",
   "metadata": {},
   "outputs": [],
   "source": [
    "class CustomDataset(Dataset):\n",
    "\n",
    "    def __init__(self, dataframe, tokenizer, max_len):\n",
    "        self.tokenizer = tokenizer\n",
    "        self.data = dataframe\n",
    "        self.comment_text = dataframe.sentence\n",
    "        self.targets = self.data.label_vector\n",
    "        self.max_len = max_len\n",
    "\n",
    "    def __len__(self):\n",
    "        return len(self.comment_text)\n",
    "\n",
    "    def __getitem__(self, index):\n",
    "        comment_text = str(self.comment_text[index])\n",
    "        comment_text = \" \".join(comment_text.split())\n",
    "\n",
    "        inputs = self.tokenizer.encode_plus(\n",
    "            comment_text,\n",
    "            None,\n",
    "            add_special_tokens=True,\n",
    "            max_length=self.max_len,\n",
    "            padding='max_length',\n",
    "            truncation=True,\n",
    "            return_token_type_ids=True\n",
    "        )\n",
    "        ids = inputs['input_ids']\n",
    "        mask = inputs['attention_mask']\n",
    "        token_type_ids = inputs[\"token_type_ids\"]\n",
    "\n",
    "\n",
    "        return {\n",
    "            'ids': torch.tensor(ids, dtype=torch.long),\n",
    "            'mask': torch.tensor(mask, dtype=torch.long),\n",
    "            'token_type_ids': torch.tensor(token_type_ids, dtype=torch.long),\n",
    "            'targets': torch.tensor(self.targets[index], dtype=torch.float)\n",
    "        }"
   ]
  },
  {
   "cell_type": "code",
   "execution_count": 12,
   "id": "aba08395-2d99-4a90-86e2-b9ae7126776c",
   "metadata": {},
   "outputs": [
    {
     "name": "stdout",
     "output_type": "stream",
     "text": [
      "FULL Dataset: (4304, 15)\n",
      "TRAIN Dataset: (3443, 15)\n",
      "TEST Dataset: (861, 15)\n"
     ]
    }
   ],
   "source": [
    "train_size = 0.8\n",
    "train_dataset=new_df.sample(frac=train_size,random_state=200)\n",
    "test_dataset=new_df.drop(train_dataset.index).reset_index(drop=True)\n",
    "train_dataset = train_dataset.reset_index(drop=True)\n",
    "\n",
    "print(\"FULL Dataset: {}\".format(new_df.shape))\n",
    "print(\"TRAIN Dataset: {}\".format(train_dataset.shape))\n",
    "print(\"TEST Dataset: {}\".format(test_dataset.shape))\n",
    "\n",
    "training_set = CustomDataset(train_dataset, tokenizer, MAX_LEN)\n",
    "testing_set = CustomDataset(test_dataset, tokenizer, MAX_LEN)"
   ]
  },
  {
   "cell_type": "code",
   "execution_count": 13,
   "id": "56ef5fc2-7e42-492f-b784-60af2502b989",
   "metadata": {},
   "outputs": [],
   "source": [
    "train_params = {'batch_size': TRAIN_BATCH_SIZE,\n",
    "                'shuffle': True,\n",
    "                'num_workers': 0\n",
    "                }\n",
    "\n",
    "test_params = {'batch_size': VALID_BATCH_SIZE,\n",
    "                'shuffle': True,\n",
    "                'num_workers': 0\n",
    "                }\n",
    "\n",
    "training_loader = DataLoader(training_set, **train_params)\n",
    "testing_loader = DataLoader(testing_set, **test_params)"
   ]
  },
  {
   "cell_type": "code",
   "execution_count": 44,
   "id": "63817466-1fa8-4374-98ae-754830ef222d",
   "metadata": {},
   "outputs": [
    {
     "data": {
      "text/plain": [
       "BERTClass(\n",
       "  (l1): BertModel(\n",
       "    (embeddings): BertEmbeddings(\n",
       "      (word_embeddings): Embedding(30522, 768, padding_idx=0)\n",
       "      (position_embeddings): Embedding(512, 768)\n",
       "      (token_type_embeddings): Embedding(2, 768)\n",
       "      (LayerNorm): LayerNorm((768,), eps=1e-12, elementwise_affine=True)\n",
       "      (dropout): Dropout(p=0.1, inplace=False)\n",
       "    )\n",
       "    (encoder): BertEncoder(\n",
       "      (layer): ModuleList(\n",
       "        (0-11): 12 x BertLayer(\n",
       "          (attention): BertAttention(\n",
       "            (self): BertSelfAttention(\n",
       "              (query): Linear(in_features=768, out_features=768, bias=True)\n",
       "              (key): Linear(in_features=768, out_features=768, bias=True)\n",
       "              (value): Linear(in_features=768, out_features=768, bias=True)\n",
       "              (dropout): Dropout(p=0.1, inplace=False)\n",
       "            )\n",
       "            (output): BertSelfOutput(\n",
       "              (dense): Linear(in_features=768, out_features=768, bias=True)\n",
       "              (LayerNorm): LayerNorm((768,), eps=1e-12, elementwise_affine=True)\n",
       "              (dropout): Dropout(p=0.1, inplace=False)\n",
       "            )\n",
       "          )\n",
       "          (intermediate): BertIntermediate(\n",
       "            (dense): Linear(in_features=768, out_features=3072, bias=True)\n",
       "            (intermediate_act_fn): GELUActivation()\n",
       "          )\n",
       "          (output): BertOutput(\n",
       "            (dense): Linear(in_features=3072, out_features=768, bias=True)\n",
       "            (LayerNorm): LayerNorm((768,), eps=1e-12, elementwise_affine=True)\n",
       "            (dropout): Dropout(p=0.1, inplace=False)\n",
       "          )\n",
       "        )\n",
       "      )\n",
       "    )\n",
       "    (pooler): BertPooler(\n",
       "      (dense): Linear(in_features=768, out_features=768, bias=True)\n",
       "      (activation): Tanh()\n",
       "    )\n",
       "  )\n",
       "  (l2): Dropout(p=0.3, inplace=False)\n",
       "  (l3): Linear(in_features=768, out_features=5, bias=True)\n",
       ")"
      ]
     },
     "execution_count": 44,
     "metadata": {},
     "output_type": "execute_result"
    }
   ],
   "source": [
    "# Creating the customized model, by adding a drop out and a dense layer on top of distil bert to get the final output for the model. \n",
    "\n",
    "class BERTClass(torch.nn.Module):\n",
    "    def __init__(self):\n",
    "        super(BERTClass, self).__init__()\n",
    "        self.l1 = transformers.BertModel.from_pretrained('bert-base-uncased')\n",
    "        self.l2 = torch.nn.Dropout(0.3)\n",
    "        self.l3 = torch.nn.Linear(768, NO_LABELS)\n",
    "    \n",
    "    def forward(self, ids, mask, token_type_ids):\n",
    "        _, output_1= self.l1(ids, attention_mask = mask, token_type_ids = token_type_ids, return_dict=False)\n",
    "        print(f'l1: {output_1.shape}')\n",
    "        output_2 = self.l2(output_1)\n",
    "        print(f'l2: {output_2.shape}')\n",
    "        output = self.l3(output_2)\n",
    "        print(f'l3: {output.shape}')\n",
    "        return output\n",
    "\n",
    "model = BERTClass()\n",
    "model.to(device)"
   ]
  },
  {
   "cell_type": "code",
   "execution_count": 45,
   "id": "976033ad-b99d-4064-afd8-c8b1735fff4e",
   "metadata": {},
   "outputs": [],
   "source": [
    "def loss_fn(outputs, targets):\n",
    "    return torch.nn.BCEWithLogitsLoss()(outputs, targets)"
   ]
  },
  {
   "cell_type": "code",
   "execution_count": 46,
   "id": "e4d1e80e-f264-49e5-9246-39c497e48c6b",
   "metadata": {},
   "outputs": [],
   "source": [
    "optimizer = torch.optim.Adam(params =  model.parameters(), lr=LEARNING_RATE)"
   ]
  },
  {
   "cell_type": "code",
   "execution_count": 47,
   "id": "2a6fc239-7a30-447e-8aca-fe460c4ae3a2",
   "metadata": {},
   "outputs": [],
   "source": [
    "def train(epoch):\n",
    "    model.train()\n",
    "    for _,data in enumerate(training_loader, 0):\n",
    "        ids = data['ids'].to(device, dtype = torch.long)\n",
    "        mask = data['mask'].to(device, dtype = torch.long)\n",
    "        token_type_ids = data['token_type_ids'].to(device, dtype = torch.long)\n",
    "        targets = data['targets'].to(device, dtype = torch.float)\n",
    "\n",
    "        outputs = model(ids, mask, token_type_ids)\n",
    "        print(outputs.shape)\n",
    "        break\n",
    "\n",
    "        optimizer.zero_grad()\n",
    "        loss = loss_fn(outputs, targets)\n",
    "        if _%500==0:\n",
    "            print(f'Epoch: {epoch}, Loss:  {loss.item()}')\n",
    "        if loss.item() < MAX_LOSS:\n",
    "            break\n",
    "        \n",
    "        optimizer.zero_grad()\n",
    "        loss.backward()\n",
    "        optimizer.step()\n",
    "    return loss"
   ]
  },
  {
   "cell_type": "code",
   "execution_count": 48,
   "id": "23bc7deb-ef71-4496-a8ae-49419949da33",
   "metadata": {},
   "outputs": [
    {
     "name": "stdout",
     "output_type": "stream",
     "text": [
      "l1: torch.Size([8, 768])\n",
      "l2: torch.Size([8, 768])\n",
      "l3: torch.Size([8, 5])\n",
      "torch.Size([8, 5])\n"
     ]
    },
    {
     "ename": "UnboundLocalError",
     "evalue": "cannot access local variable 'loss' where it is not associated with a value",
     "output_type": "error",
     "traceback": [
      "\u001b[0;31m---------------------------------------------------------------------------\u001b[0m",
      "\u001b[0;31mUnboundLocalError\u001b[0m                         Traceback (most recent call last)",
      "Cell \u001b[0;32mIn[48], line 3\u001b[0m\n\u001b[1;32m      1\u001b[0m \u001b[38;5;66;03m# Train\u001b[39;00m\n\u001b[1;32m      2\u001b[0m \u001b[38;5;28;01mfor\u001b[39;00m epoch \u001b[38;5;129;01min\u001b[39;00m \u001b[38;5;28mrange\u001b[39m(EPOCHS):\n\u001b[0;32m----> 3\u001b[0m     loss \u001b[38;5;241m=\u001b[39m train(epoch)\n\u001b[1;32m      4\u001b[0m     \u001b[38;5;28mprint\u001b[39m(\u001b[38;5;124mf\u001b[39m\u001b[38;5;124m'\u001b[39m\u001b[38;5;124mEpoch \u001b[39m\u001b[38;5;132;01m{\u001b[39;00mepoch\u001b[38;5;132;01m}\u001b[39;00m\u001b[38;5;124m done\u001b[39m\u001b[38;5;124m'\u001b[39m)\n\u001b[1;32m      5\u001b[0m     \u001b[38;5;28;01mif\u001b[39;00m loss\u001b[38;5;241m.\u001b[39mitem() \u001b[38;5;241m<\u001b[39m MAX_LOSS:\n",
      "Cell \u001b[0;32mIn[47], line 23\u001b[0m, in \u001b[0;36mtrain\u001b[0;34m(epoch)\u001b[0m\n\u001b[1;32m     21\u001b[0m     loss\u001b[38;5;241m.\u001b[39mbackward()\n\u001b[1;32m     22\u001b[0m     optimizer\u001b[38;5;241m.\u001b[39mstep()\n\u001b[0;32m---> 23\u001b[0m \u001b[38;5;28;01mreturn\u001b[39;00m loss\n",
      "\u001b[0;31mUnboundLocalError\u001b[0m: cannot access local variable 'loss' where it is not associated with a value"
     ]
    }
   ],
   "source": [
    "# Train\n",
    "for epoch in range(EPOCHS):\n",
    "    loss = train(epoch)\n",
    "    print(f'Epoch {epoch} done')\n",
    "    if loss.item() < MAX_LOSS:\n",
    "        print(f'Loss minimized to below {MAX_LOSS}')\n",
    "        break"
   ]
  },
  {
   "cell_type": "code",
   "execution_count": 22,
   "id": "92565cc2-618d-4769-baf0-511e9b6f4a64",
   "metadata": {},
   "outputs": [],
   "source": [
    "def validation():\n",
    "    model.eval()\n",
    "    fin_targets=[]\n",
    "    fin_outputs=[]\n",
    "    with torch.no_grad():\n",
    "        for _, data in enumerate(testing_loader, 0):\n",
    "            ids = data['ids'].to(device, dtype = torch.long)\n",
    "            mask = data['mask'].to(device, dtype = torch.long)\n",
    "            token_type_ids = data['token_type_ids'].to(device, dtype = torch.long)\n",
    "            targets = data['targets'].to(device, dtype = torch.float)\n",
    "            outputs = model(ids, mask, token_type_ids)\n",
    "            fin_targets.extend(targets.cpu().detach().numpy().tolist())\n",
    "            fin_outputs.extend(torch.sigmoid(outputs).cpu().detach().numpy().tolist())\n",
    "    return fin_outputs, fin_targets"
   ]
  },
  {
   "cell_type": "code",
   "execution_count": 23,
   "id": "dd9fb40f-c281-4f5e-813e-b2939c519c62",
   "metadata": {},
   "outputs": [
    {
     "name": "stdout",
     "output_type": "stream",
     "text": [
      "Accuracy Score = 0.5725900116144018\n",
      "F1 Score (Micro) = 0.6504599211563732\n",
      "F1 Score (Macro) = 0.40169084870042465\n"
     ]
    },
    {
     "name": "stderr",
     "output_type": "stream",
     "text": [
      "/opt/homebrew/anaconda3/lib/python3.11/site-packages/sklearn/metrics/_classification.py:1609: UndefinedMetricWarning: F-score is ill-defined and being set to 0.0 in labels with no true nor predicted samples. Use `zero_division` parameter to control this behavior.\n",
      "  _warn_prf(average, \"true nor predicted\", \"F-score is\", len(true_sum))\n"
     ]
    }
   ],
   "source": [
    "# Validation\n",
    "outputs, targets = validation()\n",
    "outputs = np.array(outputs) >= 0.5\n",
    "accuracy = metrics.accuracy_score(targets, outputs)\n",
    "f1_score_micro = metrics.f1_score(targets, outputs, average='micro')\n",
    "f1_score_macro = metrics.f1_score(targets, outputs, average='macro')\n",
    "print(f\"Accuracy Score = {accuracy}\")\n",
    "print(f\"F1 Score (Micro) = {f1_score_micro}\")\n",
    "print(f\"F1 Score (Macro) = {f1_score_macro}\")\n",
    "# Check https://stephenallwright.com/micro-vs-macro-f1-score/"
   ]
  },
  {
   "cell_type": "code",
   "execution_count": 24,
   "id": "8c9720e3-3ad8-4b31-a03b-fc10f73b82f4",
   "metadata": {},
   "outputs": [
    {
     "name": "stdout",
     "output_type": "stream",
     "text": [
      "\"However, eight states have passed laws prohibiting schoolteachers from wearing headscarves, while Berlin and the state of Hesse have adopted legislation banning headscarves for civil servants.\n"
     ]
    }
   ],
   "source": [
    "# Test our inputs\n",
    "# Choose a sentence\n",
    "#sample_row = new_df.sample()[['sentence', 'label_vector']]\n",
    "sample_row = df_labelled.sample()[['sentence']]\n",
    "sample_text = sample_row['sentence'].values[0]\n",
    "print(sample_text)"
   ]
  },
  {
   "cell_type": "code",
   "execution_count": 25,
   "id": "cc54eafc-5ed3-48f5-9d24-e813d243f1f6",
   "metadata": {},
   "outputs": [
    {
     "name": "stdout",
     "output_type": "stream",
     "text": [
      "ambiguous: 0.027816137298941612\n",
      "civil society: 0.031255703419446945\n",
      "direct democracy: 0.04010171815752983\n",
      "elections: 0.044003862887620926\n",
      "electoral: 0.8089959025382996\n",
      "equality: 0.09306911379098892\n",
      "freedoms: 0.04008359834551811\n",
      "liberal institutions: 0.06202146038413048\n",
      "media: 0.012400043196976185\n",
      "open government: 0.04006921499967575\n",
      "participatory: 0.01413189060986042\n",
      "political competition: 0.01139376126229763\n"
     ]
    }
   ],
   "source": [
    "def get_dimension_from_prediction(v, l=labels):    \n",
    "    index = v.index(max(v))    \n",
    "    return l[index]\n",
    "    \n",
    "# Encode the sentence\n",
    "encoding = tokenizer.encode_plus(\n",
    "  sample_text.lower(),\n",
    "  add_special_tokens=True,\n",
    "  max_length=MAX_LEN,\n",
    "  padding='max_length',\n",
    "  truncation=True,\n",
    "  return_token_type_ids=True,\n",
    "  return_tensors='pt'\n",
    ")\n",
    "\n",
    "input_ids = encoding[\"input_ids\"]\n",
    "mask = encoding[\"attention_mask\"]\n",
    "token_type_ids = encoding[\"token_type_ids\"]\n",
    "input_ids = input_ids.to(device, dtype=torch.long)\n",
    "mask = mask.to(device, dtype=torch.long)\n",
    "token_type_ids = token_type_ids.to(device, dtype=torch.long)\n",
    "\n",
    "# Inference\n",
    "output = torch.sigmoid(model(input_ids, mask, token_type_ids))\n",
    "predictions = output[0].tolist()\n",
    "for label, prediction in zip(labels, predictions):\n",
    "    print(f\"{label}: {prediction}\")"
   ]
  },
  {
   "cell_type": "code",
   "execution_count": 26,
   "id": "e46c0102-e990-4da2-b6a2-1297260c77ad",
   "metadata": {},
   "outputs": [
    {
     "name": "stdout",
     "output_type": "stream",
     "text": [
      "Statement \"\"However, eight states have passed laws prohibiting schoolteachers from wearing headscarves, while Berlin and the state of Hesse have adopted legislation banning headscarves for civil servants.\" was classified as: electoral.\n"
     ]
    }
   ],
   "source": [
    "result_dim = get_dimension_from_prediction(predictions)\n",
    "print(f'Statement \"{sample_text}\" was classified as: {result_dim}.')"
   ]
  },
  {
   "cell_type": "code",
   "execution_count": 27,
   "id": "87279a44-baf1-4913-b5d1-05eeb8471fab",
   "metadata": {},
   "outputs": [],
   "source": [
    "# Save model\n",
    "torch.save(model, 'BERT_classifier_democracy.pth')\n",
    "torch.save(model.state_dict(), 'BERT_classifier_democracy_state_dict.pth')"
   ]
  },
  {
   "cell_type": "code",
   "execution_count": null,
   "id": "8cdeb72e-899d-4cd8-bd94-e3938b616517",
   "metadata": {},
   "outputs": [],
   "source": []
  }
 ],
 "metadata": {
  "kernelspec": {
   "display_name": "Python 3 (ipykernel)",
   "language": "python",
   "name": "python3"
  },
  "language_info": {
   "codemirror_mode": {
    "name": "ipython",
    "version": 3
   },
   "file_extension": ".py",
   "mimetype": "text/x-python",
   "name": "python",
   "nbconvert_exporter": "python",
   "pygments_lexer": "ipython3",
   "version": "3.11.7"
  }
 },
 "nbformat": 4,
 "nbformat_minor": 5
}
