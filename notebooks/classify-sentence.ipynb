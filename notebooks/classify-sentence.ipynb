{
 "cells": [
  {
   "cell_type": "code",
   "execution_count": 1,
   "id": "ff0f3886-7cf5-46a1-88eb-cf78724b0ac1",
   "metadata": {},
   "outputs": [
    {
     "name": "stderr",
     "output_type": "stream",
     "text": [
      "/Users/reggie/Workspace/backdem/democracy-text-classification/notebooks/prep_input_data.py:84: DtypeWarning: Columns (4,5,6,7,9,10,11,12) have mixed types. Specify dtype option on import or set low_memory=False.\n",
      "  df = pd.read_csv(corpus_file, dtype={'year': str},comment='#')\n"
     ]
    },
    {
     "name": "stdout",
     "output_type": "stream",
     "text": [
      "985\n"
     ]
    }
   ],
   "source": [
    "import pandas as pd\n",
    "import torch\n",
    "from prep_input_data import get_labelled_data\n",
    "from transformers import BertTokenizer, BertModel, BertConfig\n",
    "from transformers import RobertaTokenizer, RobertaModel, RobertaConfig"
   ]
  },
  {
   "cell_type": "code",
   "execution_count": 2,
   "id": "07ff51ba-1b32-43b7-87b0-bcd5f1d36c6c",
   "metadata": {},
   "outputs": [
    {
     "name": "stderr",
     "output_type": "stream",
     "text": [
      "/Users/reggie/Workspace/backdem/democracy-text-classification/notebooks/prep_input_data.py:84: DtypeWarning: Columns (4,5,6,7,9,10,11,12) have mixed types. Specify dtype option on import or set low_memory=False.\n",
      "  df = pd.read_csv(corpus_file, dtype={'year': str},comment='#')\n"
     ]
    },
    {
     "name": "stdout",
     "output_type": "stream",
     "text": [
      "                                                sentence  country  year  \\\n",
      "56838  \"However, this revenue was obtained mainly fro...  moldova  2018   \n",
      "\n",
      "                              source dimension1 dimension2  backsliding  \\\n",
      "56838  freedomhouse_nations-transit\"        NaN        NaN          NaN   \n",
      "\n",
      "      cat_4_sentence_nuance  start_idea comments undefined0 undefined1  \\\n",
      "56838                   NaN         NaN      NaN        NaN        NaN   \n",
      "\n",
      "      consensus  \n",
      "56838       NaN  \n"
     ]
    }
   ],
   "source": [
    "corpus_file = '../../data/democracy_reports_corpus_annelisa_9_fixed.csv'\n",
    "df = get_labelled_data(corpus_file, all=True)\n",
    "df = df.dropna(subset=['source'])\n",
    "df = df[df['source'].str.contains('freedom')]\n",
    "print(df.sample(1))"
   ]
  },
  {
   "cell_type": "code",
   "execution_count": 3,
   "id": "7f229823-2620-48da-9289-23337b0055b0",
   "metadata": {},
   "outputs": [
    {
     "name": "stdout",
     "output_type": "stream",
     "text": [
      "Labels: ['ambiguous', 'civil society', 'direct democracy', 'elections', 'electoral', 'equality', 'freedoms', 'liberal institutions', 'media', 'open government', 'participatory', 'political competition']\n"
     ]
    }
   ],
   "source": [
    "MAX_LEN = 512\n",
    "device = 'cpu'\n",
    "# Get label names\n",
    "labels = sorted(df['dimension1'].dropna().unique())\n",
    "print(f'Labels: {labels}')\n",
    "NO_LABELS = len(labels)"
   ]
  },
  {
   "cell_type": "code",
   "execution_count": 4,
   "id": "3e3d8706-4997-4f11-8791-f2885edeb67a",
   "metadata": {},
   "outputs": [],
   "source": [
    "class ROBERTAClass(torch.nn.Module):\n",
    "    def __init__(self):\n",
    "        super(ROBERTAClass, self).__init__()\n",
    "        self.l1 = transformers.RobertaModel.from_pretrained('roberta-base')\n",
    "        self.l2 = torch.nn.Dropout(0.3)\n",
    "        self.l3 = torch.nn.Linear(768, NO_LABELS)\n",
    "    \n",
    "    def forward(self, ids, mask, token_type_ids):\n",
    "        _, output_1= self.l1(ids, attention_mask = mask, token_type_ids = token_type_ids, return_dict=False)\n",
    "        output_2 = self.l2(output_1)\n",
    "        output = self.l3(output_2)\n",
    "        return output\n",
    "        \n",
    "class LEGALBERTClass(torch.nn.Module):\n",
    "    def __init__(self):\n",
    "        super(BERTClass, self).__init__()\n",
    "        self.l1 = transformers.BertModel.from_pretrained('nlpaueb/legal-bert-base-uncased')\n",
    "        self.l2 = torch.nn.Dropout(0.3)\n",
    "        self.l3 = torch.nn.Linear(768, NO_LABELS)\n",
    "    \n",
    "    def forward(self, ids, mask, token_type_ids):\n",
    "        _, output_1= self.l1(ids, attention_mask = mask, token_type_ids = token_type_ids, return_dict=False)\n",
    "        output_2 = self.l2(output_1)\n",
    "        output = self.l3(output_2)\n",
    "        return output\n",
    "\n",
    "class BERTClass(torch.nn.Module):\n",
    "    def __init__(self):\n",
    "        super(BERTClass, self).__init__()\n",
    "        self.l1 = transformers.BertModel.from_pretrained('bert-base-uncased')\n",
    "        self.l2 = torch.nn.Dropout(0.3)\n",
    "        self.l3 = torch.nn.Linear(768, NO_LABELS)\n",
    "    \n",
    "    def forward(self, ids, mask, token_type_ids):\n",
    "        _, output_1= self.l1(ids, attention_mask = mask, token_type_ids = token_type_ids, return_dict=False)\n",
    "        output_2 = self.l2(output_1)\n",
    "        output = self.l3(output_2)\n",
    "        return output"
   ]
  },
  {
   "cell_type": "code",
   "execution_count": 5,
   "id": "bf68e552-a618-4c41-a007-29937374b18e",
   "metadata": {},
   "outputs": [],
   "source": [
    "tokenizer_bert = BertTokenizer.from_pretrained('bert-base-uncased', do_lower_case = True)\n",
    "tokenizer_legal_bert = BertTokenizer.from_pretrained('nlpaueb/legal-bert-base-uncased', do_lower_case = True)\n",
    "tokenizer_roberta = RobertaTokenizer.from_pretrained('roberta-base', do_lower_case = True)\n",
    "model_bert = torch.load('BERT_classifier_democracy.pth')\n",
    "model_legal_bert = torch.load('LEGAL_BERT_classifier_democracy.pth')\n",
    "model_roberta = torch.load('ROBERTA_classifier_democracy.pth')\n",
    "models = [('bert', model_bert, tokenizer_bert), ('legal_bert', model_legal_bert, tokenizer_legal_bert), ('roberta_base', model_roberta, tokenizer_roberta)]\n",
    "#tokenizers = [tokenizer_bert, tokenizer_legal_bert, tokenizer_roberta]"
   ]
  },
  {
   "cell_type": "code",
   "execution_count": 7,
   "id": "8889aa73-92cc-4382-8e35-9fb9877a14a7",
   "metadata": {},
   "outputs": [],
   "source": [
    "import math\n",
    "def get_dimension_from_prediction(v, l=labels, t=0.5):\n",
    "    m = max(v)\n",
    "    \n",
    "    index = v.index(m)  \n",
    "    if (m < t):\n",
    "        #return f\"bt:{l[index]}:{round(m,3)}\"\n",
    "        return \"NoClass\"\n",
    "    return l[index]\n",
    "    \n",
    "def predict_single_sentence(sentence, tokenizer, model):\n",
    "    # Encode the sentence\n",
    "    encoding = tokenizer.encode_plus(\n",
    "      sentence.lower(),\n",
    "      add_special_tokens=True,\n",
    "      max_length=MAX_LEN,\n",
    "      padding='max_length',\n",
    "      truncation=True,\n",
    "      return_token_type_ids=True,\n",
    "      return_tensors='pt'\n",
    "    )\n",
    "    \n",
    "    input_ids = encoding[\"input_ids\"]\n",
    "    mask = encoding[\"attention_mask\"]\n",
    "    token_type_ids = encoding[\"token_type_ids\"]\n",
    "    input_ids = input_ids.to(device, dtype=torch.long)\n",
    "    mask = mask.to(device, dtype=torch.long)\n",
    "    token_type_ids = token_type_ids.to(device, dtype=torch.long)\n",
    "    \n",
    "    # Inference\n",
    "    output = torch.sigmoid(model(input_ids, mask, token_type_ids))\n",
    "    predictions = output[0].tolist()\n",
    "    #for label, prediction in zip(labels, predictions):\n",
    "    #    print(f\"{label}: {prediction}\")\n",
    "    predicted_class = get_dimension_from_prediction(predictions)\n",
    "    #print(predicted_class)\n",
    "    return predicted_class"
   ]
  },
  {
   "cell_type": "code",
   "execution_count": 8,
   "id": "977b2e15-b659-4325-b5a1-ee61efd69b03",
   "metadata": {},
   "outputs": [
    {
     "name": "stdout",
     "output_type": "stream",
     "text": [
      "Classifying using bert.\n",
      "Classifying using legal_bert.\n",
      "Classifying using roberta_base.\n",
      "Execution time: 534.6859068870544 seconds\n"
     ]
    }
   ],
   "source": [
    "import time\n",
    "import math\n",
    "start_time = time.time()\n",
    "\n",
    "#sample_row = df.sample()[['sentence']]\n",
    "#sample_text = sample_row['sentence'].values[0]\n",
    "#print(sample_text)\n",
    "sample_size = 1000\n",
    "df_cleaned = df.dropna(subset=['sentence'])\n",
    "sample_df = df_cleaned.sample(sample_size).copy()\n",
    "for name, model, tokenizer in models:\n",
    "    print(f'Classifying using {name}.')\n",
    "    predictions = []\n",
    "    for sentence in sample_df['sentence']:\n",
    "        #print(sentence)\n",
    "        predictions.append(predict_single_sentence(sentence, tokenizer, model))\n",
    "    sample_df[name] = predictions\n",
    "    #result_dim = predict_single_sentence(sample_row, tokenizer, model)\n",
    "    #print(f'Model {name} classifies statement as: {result_dim}.')\n",
    "end_time = time.time()\n",
    "execution_time = end_time - start_time\n",
    "print(f\"Execution time: {execution_time} seconds\")"
   ]
  },
  {
   "cell_type": "code",
   "execution_count": 9,
   "id": "7d250a70-ac3d-4af6-a88f-3f791749f794",
   "metadata": {},
   "outputs": [
    {
     "name": "stdout",
     "output_type": "stream",
     "text": [
      "estimated execution time: 13:55\n"
     ]
    }
   ],
   "source": [
    "estimated_time = (execution_time * len(df)) / sample_size\n",
    "hours = estimated_time // 3600\n",
    "remaining_seconds = estimated_time % 3600\n",
    "minutes = remaining_seconds // 60\n",
    "print(f\"estimated execution time: {int(hours)}:{int(minutes)}\")"
   ]
  },
  {
   "cell_type": "code",
   "execution_count": 10,
   "id": "06988106-8ffd-48d7-8629-fb47a12d1cb5",
   "metadata": {},
   "outputs": [],
   "source": [
    "# save sample\n",
    "file_name = \"sample_bert_legal_roberta_fh_\" + str(sample_size) +\".csv\"\n",
    "sample_df.to_csv(file_name, index=False)"
   ]
  },
  {
   "cell_type": "code",
   "execution_count": null,
   "id": "b3ff8a4d-702b-4995-b7b5-ebbaf9ee195c",
   "metadata": {},
   "outputs": [],
   "source": []
  }
 ],
 "metadata": {
  "kernelspec": {
   "display_name": "Python 3 (ipykernel)",
   "language": "python",
   "name": "python3"
  },
  "language_info": {
   "codemirror_mode": {
    "name": "ipython",
    "version": 3
   },
   "file_extension": ".py",
   "mimetype": "text/x-python",
   "name": "python",
   "nbconvert_exporter": "python",
   "pygments_lexer": "ipython3",
   "version": "3.10.12"
  }
 },
 "nbformat": 4,
 "nbformat_minor": 5
}
