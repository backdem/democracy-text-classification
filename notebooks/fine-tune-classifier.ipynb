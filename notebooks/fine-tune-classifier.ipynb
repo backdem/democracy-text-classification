{
 "cells": [
  {
   "cell_type": "code",
   "execution_count": 8,
   "id": "da8588ef-60db-4f9c-a6de-e9f63d03129a",
   "metadata": {
    "tags": []
   },
   "outputs": [],
   "source": [
    "import tensorflow as tf\n",
    "import torch"
   ]
  },
  {
   "cell_type": "code",
   "execution_count": 9,
   "id": "e868df8d-0e2b-45d9-bf04-e88c8e98cd4d",
   "metadata": {},
   "outputs": [
    {
     "name": "stdout",
     "output_type": "stream",
     "text": [
      "No GPU available, using the CPU instead.\n"
     ]
    }
   ],
   "source": [
    "# If there's a GPU available...\n",
    "if torch.cuda.is_available():    \n",
    "\n",
    "    # Tell PyTorch to use the GPU.    \n",
    "    device = torch.device(\"cuda\")\n",
    "\n",
    "    print('There are %d GPU(s) available.' % torch.cuda.device_count())\n",
    "\n",
    "    print('We will use the GPU:', torch.cuda.get_device_name(0))\n",
    "\n",
    "# If not...\n",
    "else:\n",
    "    print('No GPU available, using the CPU instead.')\n",
    "    device = torch.device(\"cpu\")\n"
   ]
  },
  {
   "cell_type": "code",
   "execution_count": 22,
   "id": "2edcfaa5-02a9-4cc4-b35f-e2ae6e2bc180",
   "metadata": {},
   "outputs": [],
   "source": [
    "import urllib\n",
    "import os\n",
    "\n",
    "# Corpus and dictionary files to use\n",
    "corpus_file = 'democracy_reports_corpus.csv'\n",
    "corpus_file_url = \"https://github.com/backdem/democracy-datasets/raw/main/democracy_reports_corpus.csv\"\n",
    "\n",
    "# Download datsets if not already downloaded\n",
    "if not os.path.exists(corpus_file):\n",
    "    urllib.request.urlretrieve(corpus_file_url, corpus_file)"
   ]
  },
  {
   "cell_type": "code",
   "execution_count": 30,
   "id": "44882512-1124-4aaa-9ee5-06306211f567",
   "metadata": {},
   "outputs": [
    {
     "name": "stdout",
     "output_type": "stream",
     "text": [
      "                                            sentence  \\\n",
      "0  The president is directly elected for up to tw...   \n",
      "\n",
      "                                             section country  year  \\\n",
      "0  ['Political Rights', 'Electoral Process', 'Was...  turkey  2021   \n",
      "\n",
      "                       source  \n",
      "0  freedomhouse_freedom-world  \n"
     ]
    }
   ],
   "source": [
    "import pandas as pd\n",
    "import pyarrow\n",
    "\n",
    "# Read csv file into Dataframe\n",
    "df = pd.read_csv(corpus_file, dtype={'year': str, 'sentence': str}, comment='#')\n",
    "# Print first row\n",
    "print(df.head(1))"
   ]
  },
  {
   "cell_type": "code",
   "execution_count": 110,
   "id": "ab078e26-33f7-4ac1-a5b4-04c3ac74effa",
   "metadata": {},
   "outputs": [],
   "source": [
    "# Use first 2 section names as label.\n",
    "s = df['section'] \\\n",
    "    .str.replace('[','') \\\n",
    "    .str.replace(']','') \\\n",
    "    .str.split(',', expand=True)\n",
    "\n",
    "s[0] = s[0].str.replace(\"'\",'').str.replace(\" \",'') \\\n",
    "        + s[1].str.replace(\"'\",'').str.replace(\" \",'')\n",
    "\n",
    "# Where there is no section create \"Nothing\" label\n",
    "df_labels = s[0].fillna(\"Nothing\")"
   ]
  },
  {
   "cell_type": "code",
   "execution_count": 111,
   "id": "9b7e205a-e254-4e37-b853-e50431e1c2a0",
   "metadata": {},
   "outputs": [
    {
     "name": "stdout",
     "output_type": "stream",
     "text": [
      "0         PoliticalRightsElectoralProcess\n",
      "1         PoliticalRightsElectoralProcess\n",
      "2         PoliticalRightsElectoralProcess\n",
      "3         PoliticalRightsElectoralProcess\n",
      "4         PoliticalRightsElectoralProcess\n",
      "                       ...               \n",
      "460723                            Nothing\n",
      "460724                            Nothing\n",
      "460725                            Nothing\n",
      "460726                            Nothing\n",
      "460727                            Nothing\n",
      "Name: 0, Length: 460728, dtype: object\n"
     ]
    }
   ],
   "source": [
    "print(df_labels)"
   ]
  },
  {
   "cell_type": "code",
   "execution_count": 112,
   "id": "ba308218-7f5b-4c6c-b0fb-07cf5f305555",
   "metadata": {},
   "outputs": [],
   "source": [
    "df_sentences_labels = pd.DataFrame(df['sentence'])\n",
    "# Insert string label column into DF\n",
    "df_sentences_labels.insert(loc=1,column=\"label_str\", value=df_labels)\n",
    "# Convert string label colum to numerical column\n",
    "df_sentences_labels['label'] = pd.factorize(df_sentences_labels['label_str'])[0]\n"
   ]
  },
  {
   "cell_type": "code",
   "execution_count": 119,
   "id": "32fb08fd-7122-43a0-a264-25afc93a9d06",
   "metadata": {},
   "outputs": [
    {
     "data": {
      "text/html": [
       "<div>\n",
       "<style scoped>\n",
       "    .dataframe tbody tr th:only-of-type {\n",
       "        vertical-align: middle;\n",
       "    }\n",
       "\n",
       "    .dataframe tbody tr th {\n",
       "        vertical-align: top;\n",
       "    }\n",
       "\n",
       "    .dataframe thead th {\n",
       "        text-align: right;\n",
       "    }\n",
       "</style>\n",
       "<table border=\"1\" class=\"dataframe\">\n",
       "  <thead>\n",
       "    <tr style=\"text-align: right;\">\n",
       "      <th></th>\n",
       "      <th>sentence</th>\n",
       "      <th>label</th>\n",
       "    </tr>\n",
       "  </thead>\n",
       "  <tbody>\n",
       "    <tr>\n",
       "      <th>28391</th>\n",
       "      <td>The nationalist Alliance for the Union of Roma...</td>\n",
       "      <td>0</td>\n",
       "    </tr>\n",
       "    <tr>\n",
       "      <th>26216</th>\n",
       "      <td>Members of the Electoral Commission (EC) are a...</td>\n",
       "      <td>0</td>\n",
       "    </tr>\n",
       "    <tr>\n",
       "      <th>14993</th>\n",
       "      <td>The GPS made gains, while the SP sustained los...</td>\n",
       "      <td>0</td>\n",
       "    </tr>\n",
       "    <tr>\n",
       "      <th>27621</th>\n",
       "      <td>The nationalist Alliance for the Union of Roma...</td>\n",
       "      <td>0</td>\n",
       "    </tr>\n",
       "    <tr>\n",
       "      <th>23698</th>\n",
       "      <td>Parliament maintains a direct role in electora...</td>\n",
       "      <td>0</td>\n",
       "    </tr>\n",
       "  </tbody>\n",
       "</table>\n",
       "</div>"
      ],
      "text/plain": [
       "                                                sentence  label\n",
       "28391  The nationalist Alliance for the Union of Roma...      0\n",
       "26216  Members of the Electoral Commission (EC) are a...      0\n",
       "14993  The GPS made gains, while the SP sustained los...      0\n",
       "27621  The nationalist Alliance for the Union of Roma...      0\n",
       "23698  Parliament maintains a direct role in electora...      0"
      ]
     },
     "execution_count": 119,
     "metadata": {},
     "output_type": "execute_result"
    }
   ],
   "source": [
    "# Replace df from here onwords\n",
    "df = df_sentences_labels\n",
    "\n",
    "# Display a sample of the dataset\n",
    "df.loc[df.label == 0].sample(5)[['sentence', 'label']]"
   ]
  },
  {
   "cell_type": "code",
   "execution_count": 126,
   "id": "b06f297b-13c1-4775-b201-bc4b0d92d24a",
   "metadata": {},
   "outputs": [],
   "source": [
    "from transformers import BertTokenizer\n",
    "tokenizer = BertTokenizer.from_pretrained('bert-base-uncased', do_lower_case = True)\n",
    "df['tokenized'] = df['sentence'].apply(tokenizer.tokenize)\n"
   ]
  },
  {
   "cell_type": "code",
   "execution_count": 139,
   "id": "3069ee3c-47e4-4082-986a-925029b70a17",
   "metadata": {},
   "outputs": [
    {
     "name": "stdout",
     "output_type": "stream",
     "text": [
      " Original:  The president is directly elected for up to two five-year terms, but is eligible to run for a third term if the parliament calls for early elections during the president’s initial terms.\n",
      "Tokenized:  ['the', 'president', 'is', 'directly', 'elected', 'for', 'up', 'to', 'two', 'five', '-', 'year', 'terms', ',', 'but', 'is', 'eligible', 'to', 'run', 'for', 'a', 'third', 'term', 'if', 'the', 'parliament', 'calls', 'for', 'early', 'elections', 'during', 'the', 'president', '’', 's', 'initial', 'terms', '.']\n",
      "Token IDs:  [1996, 2343, 2003, 3495, 2700, 2005, 2039, 2000, 2048, 2274, 1011, 2095, 3408, 1010, 2021, 2003, 7792, 2000, 2448, 2005, 1037, 2353, 2744, 2065, 1996, 3323, 4455, 2005, 2220, 3864, 2076, 1996, 2343, 1521, 1055, 3988, 3408, 1012]\n"
     ]
    }
   ],
   "source": [
    "df = df[df['tokenized'].apply(lambda x: len(x) < 510)]\n",
    "df = df[df[\"label_str\"] != 'Nothing']\n",
    "sentences = df.sentence.values\n",
    "labels = df.label.values\n",
    "# Print the original sentence.\n",
    "print(' Original: ', sentences[0])\n",
    "\n",
    "# Print the sentence split into tokens.\n",
    "print('Tokenized: ', tokenizer.tokenize(sentences[0]))\n",
    "\n",
    "# Print the sentence mapped to token ids.\n",
    "print('Token IDs: ', tokenizer.convert_tokens_to_ids(tokenizer.tokenize(sentences[0])))"
   ]
  },
  {
   "cell_type": "code",
   "execution_count": null,
   "id": "b30dd630-a7af-43a1-9ff2-9dd16794494f",
   "metadata": {},
   "outputs": [],
   "source": [
    "# Tokenize all of the sentences and map the tokens to thier word IDs.\n",
    "input_ids = []\n",
    "attention_masks = []\n",
    "for sent in sentences:\n",
    "    encoded_dict = tokenizer.encode_plus(sent, add_special_tokens=True, padding='max_length', return_attention_mask = True, return_tensors='pt')\n",
    "    input_ids.append(encoded_dict['input_ids'])\n",
    "    attention_masks.append(encoded_dict['attention_mask'])"
   ]
  },
  {
   "cell_type": "code",
   "execution_count": 138,
   "id": "1b5b98f7-1057-488d-873e-8701aff2f1ab",
   "metadata": {},
   "outputs": [
    {
     "name": "stdout",
     "output_type": "stream",
     "text": [
      "Original:  The president is directly elected for up to two five-year terms, but is eligible to run for a third term if the parliament calls for early elections during the president’s initial terms.\n",
      "Token IDs: tensor([ 101, 1996, 2343, 2003, 3495, 2700, 2005, 2039, 2000, 2048, 2274, 1011,\n",
      "        2095, 3408, 1010, 2021, 2003, 7792, 2000, 2448, 2005, 1037, 2353, 2744,\n",
      "        2065, 1996, 3323, 4455, 2005, 2220, 3864, 2076, 1996, 2343, 1521, 1055,\n",
      "        3988, 3408, 1012,  102,    0,    0,    0,    0,    0,    0,    0,    0,\n",
      "           0,    0,    0,    0,    0,    0,    0,    0,    0,    0,    0,    0,\n",
      "           0,    0,    0,    0,    0,    0,    0,    0,    0,    0,    0,    0,\n",
      "           0,    0,    0,    0,    0,    0,    0,    0,    0,    0,    0,    0,\n",
      "           0,    0,    0,    0,    0,    0,    0,    0,    0,    0,    0,    0,\n",
      "           0,    0,    0,    0,    0,    0,    0,    0,    0,    0,    0,    0,\n",
      "           0,    0,    0,    0,    0,    0,    0,    0,    0,    0,    0,    0,\n",
      "           0,    0,    0,    0,    0,    0,    0,    0,    0,    0,    0,    0,\n",
      "           0,    0,    0,    0,    0,    0,    0,    0,    0,    0,    0,    0,\n",
      "           0,    0,    0,    0,    0,    0,    0,    0,    0,    0,    0,    0,\n",
      "           0,    0,    0,    0,    0,    0,    0,    0,    0,    0,    0,    0,\n",
      "           0,    0,    0,    0,    0,    0,    0,    0,    0,    0,    0,    0,\n",
      "           0,    0,    0,    0,    0,    0,    0,    0,    0,    0,    0,    0,\n",
      "           0,    0,    0,    0,    0,    0,    0,    0,    0,    0,    0,    0,\n",
      "           0,    0,    0,    0,    0,    0,    0,    0,    0,    0,    0,    0,\n",
      "           0,    0,    0,    0,    0,    0,    0,    0,    0,    0,    0,    0,\n",
      "           0,    0,    0,    0,    0,    0,    0,    0,    0,    0,    0,    0,\n",
      "           0,    0,    0,    0,    0,    0,    0,    0,    0,    0,    0,    0,\n",
      "           0,    0,    0,    0,    0,    0,    0,    0,    0,    0,    0,    0,\n",
      "           0,    0,    0,    0,    0,    0,    0,    0,    0,    0,    0,    0,\n",
      "           0,    0,    0,    0,    0,    0,    0,    0,    0,    0,    0,    0,\n",
      "           0,    0,    0,    0,    0,    0,    0,    0,    0,    0,    0,    0,\n",
      "           0,    0,    0,    0,    0,    0,    0,    0,    0,    0,    0,    0,\n",
      "           0,    0,    0,    0,    0,    0,    0,    0,    0,    0,    0,    0,\n",
      "           0,    0,    0,    0,    0,    0,    0,    0,    0,    0,    0,    0,\n",
      "           0,    0,    0,    0,    0,    0,    0,    0,    0,    0,    0,    0,\n",
      "           0,    0,    0,    0,    0,    0,    0,    0,    0,    0,    0,    0,\n",
      "           0,    0,    0,    0,    0,    0,    0,    0,    0,    0,    0,    0,\n",
      "           0,    0,    0,    0,    0,    0,    0,    0,    0,    0,    0,    0,\n",
      "           0,    0,    0,    0,    0,    0,    0,    0,    0,    0,    0,    0,\n",
      "           0,    0,    0,    0,    0,    0,    0,    0,    0,    0,    0,    0,\n",
      "           0,    0,    0,    0,    0,    0,    0,    0,    0,    0,    0,    0,\n",
      "           0,    0,    0,    0,    0,    0,    0,    0,    0,    0,    0,    0,\n",
      "           0,    0,    0,    0,    0,    0,    0,    0,    0,    0,    0,    0,\n",
      "           0,    0,    0,    0,    0,    0,    0,    0,    0,    0,    0,    0,\n",
      "           0,    0,    0,    0,    0,    0,    0,    0,    0,    0,    0,    0,\n",
      "           0,    0,    0,    0,    0,    0,    0,    0,    0,    0,    0,    0,\n",
      "           0,    0,    0,    0,    0,    0,    0,    0,    0,    0,    0,    0,\n",
      "           0,    0,    0,    0,    0,    0,    0,    0,    0,    0,    0,    0,\n",
      "           0,    0,    0,    0,    0,    0,    0,    0])\n"
     ]
    }
   ],
   "source": [
    "# Convert the lists into tensors.\n",
    "input_ids = torch.cat(input_ids, dim=0)\n",
    "attention_masks = torch.cat(attention_masks, dim=0)\n",
    "labels = torch.tensor(labels)\n",
    "\n",
    "# Print sentence 0, now as a list of IDs.\n",
    "print('Original: ', sentences[0])\n",
    "print('Token IDs:', input_ids[0])"
   ]
  },
  {
   "cell_type": "code",
   "execution_count": null,
   "id": "15d66477-3d76-4dab-9b77-c4d0e5809a17",
   "metadata": {},
   "outputs": [],
   "source": []
  }
 ],
 "metadata": {
  "kernelspec": {
   "display_name": "Python 3 (ipykernel)",
   "language": "python",
   "name": "python3"
  },
  "language_info": {
   "codemirror_mode": {
    "name": "ipython",
    "version": 3
   },
   "file_extension": ".py",
   "mimetype": "text/x-python",
   "name": "python",
   "nbconvert_exporter": "python",
   "pygments_lexer": "ipython3",
   "version": "3.9.13"
  }
 },
 "nbformat": 4,
 "nbformat_minor": 5
}
