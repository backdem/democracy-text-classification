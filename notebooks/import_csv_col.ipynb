{
 "cells": [
  {
   "cell_type": "code",
   "execution_count": 25,
   "id": "4917da0c-3454-4895-a92a-3d30ec00069e",
   "metadata": {},
   "outputs": [],
   "source": [
    "import pandas as pd\n",
    "import sys\n",
    "import os\n",
    "from datetime import datetime\n"
   ]
  },
  {
   "cell_type": "code",
   "execution_count": 26,
   "id": "350f189e-ee18-4a3d-abd8-19211b73b9db",
   "metadata": {},
   "outputs": [],
   "source": [
    "file_one = '../../data/democracy_dimensions_predictions_unbalanced_010824.csv'\n",
    "csvs_n_cols = [('../../data/democracy_dimensions_predictions_no_ambiguous_unbalanced_310724.csv','predicted_dim_roberta_no_ambiguous_unbalanced'), ('../../data/democracy_dimensions_predictions_no_ambiguous_balanced_020824.csv','predicted_dim_roberta_no_ambiguous_balanced'), ('../../data/democracy_backsliding123_predictions_130724.csv','predicted_backsliding_123')]\n",
    "#file_to_import_col = '../../data/democracy_backsliding123_predictions_130724.csv'\n",
    "#import_column_name = 'predicted_backsliding_123'"
   ]
  },
  {
   "cell_type": "code",
   "execution_count": 27,
   "id": "c0bdaf92-8a9b-4f31-8995-3334df1abc41",
   "metadata": {},
   "outputs": [
    {
     "name": "stderr",
     "output_type": "stream",
     "text": [
      "/var/folders/pj/wj7m849s68qcg6_lr0j03jgh0000gn/T/ipykernel_86206/976154854.py:7: DtypeWarning: Columns (4,5,6,8,9,10,12,13,14,17,18,19,20,21) have mixed types. Specify dtype option on import or set low_memory=False.\n",
      "  df = pd.read_csv(file_path)\n",
      "/var/folders/pj/wj7m849s68qcg6_lr0j03jgh0000gn/T/ipykernel_86206/976154854.py:7: DtypeWarning: Columns (4,5,6,8,9,10,12,13,14,17,18,19,20,21) have mixed types. Specify dtype option on import or set low_memory=False.\n",
      "  df = pd.read_csv(file_path)\n",
      "/var/folders/pj/wj7m849s68qcg6_lr0j03jgh0000gn/T/ipykernel_86206/976154854.py:7: DtypeWarning: Columns (4,5,6,8,9,10,12,13,14,17,18,19,20,21) have mixed types. Specify dtype option on import or set low_memory=False.\n",
      "  df = pd.read_csv(file_path)\n"
     ]
    }
   ],
   "source": [
    "# Sanity checks\n",
    "if not os.path.exists(file_one):\n",
    "    raise Exception(f\"{file_one} does not exist!\")\n",
    "    \n",
    "for file_path, import_column_name in csvs_n_cols:\n",
    "    if os.path.exists(file_path):\n",
    "        df = pd.read_csv(file_path)\n",
    "        if import_column_name not in df.columns:\n",
    "            raise Exception(f\"{file_path} has no column {import_column_name}!\")\n",
    "    else:\n",
    "        raise Exception(f\"{file_path} does not exist!\")\n",
    "\n"
   ]
  },
  {
   "cell_type": "code",
   "execution_count": 28,
   "id": "6296673e-49df-4f04-ba15-aa55acd45fab",
   "metadata": {},
   "outputs": [],
   "source": [
    "def compare_first_n_words(str1, str2, n=4):\n",
    "    str1 = str1.lower()\n",
    "    str2 = str2.lower()\n",
    "    # Split the strings into words\n",
    "    words1 = str1.split()\n",
    "    words2 = str2.split()\n",
    "\n",
    "    # Take the first 4 words of each string\n",
    "    first_4_words1 = words1[:n]\n",
    "    first_4_words2 = words2[:n]\n",
    "\n",
    "    # Compare the first 4 words\n",
    "    if first_4_words1 == first_4_words2:\n",
    "        return True\n",
    "    else:\n",
    "        return False"
   ]
  },
  {
   "cell_type": "code",
   "execution_count": 29,
   "id": "28aacd70-7c40-4de6-a32d-2c2318bc56b4",
   "metadata": {},
   "outputs": [
    {
     "name": "stderr",
     "output_type": "stream",
     "text": [
      "/var/folders/pj/wj7m849s68qcg6_lr0j03jgh0000gn/T/ipykernel_86206/3743041755.py:1: DtypeWarning: Columns (4,5,6,8,9,10,12,13,14,17,18,19,20,21) have mixed types. Specify dtype option on import or set low_memory=False.\n",
      "  df_out = pd.read_csv(file_one)\n",
      "/var/folders/pj/wj7m849s68qcg6_lr0j03jgh0000gn/T/ipykernel_86206/3743041755.py:4: DtypeWarning: Columns (4,5,6,8,9,10,12,13,14,17,18,19,20,21) have mixed types. Specify dtype option on import or set low_memory=False.\n",
      "  df2 = pd.read_csv(file_path)\n",
      "/var/folders/pj/wj7m849s68qcg6_lr0j03jgh0000gn/T/ipykernel_86206/3743041755.py:4: DtypeWarning: Columns (4,5,6,8,9,10,12,13,14,17,18,19,20,21) have mixed types. Specify dtype option on import or set low_memory=False.\n",
      "  df2 = pd.read_csv(file_path)\n",
      "/var/folders/pj/wj7m849s68qcg6_lr0j03jgh0000gn/T/ipykernel_86206/3743041755.py:4: DtypeWarning: Columns (4,5,6,8,9,10,12,13,14,17,18,19,20,21) have mixed types. Specify dtype option on import or set low_memory=False.\n",
      "  df2 = pd.read_csv(file_path)\n"
     ]
    }
   ],
   "source": [
    "df_out = pd.read_csv(file_one)\n",
    "\n",
    "for file_path, import_column_name in csvs_n_cols:\n",
    "    df2 = pd.read_csv(file_path)\n",
    "    df_out[import_column_name] = None\n",
    "    for i2, row2 in df2.iterrows():\n",
    "        s2 = row2['sentence']\n",
    "        s1 = df_out.loc[i2, 'sentence']\n",
    "        if not compare_first_n_words(s2,s1):\n",
    "            print(f'WARNING sentences do not match {s1} {s2}')\n",
    "        df_out.loc[i2, import_column_name] = df2.loc[i2, import_column_name]"
   ]
  },
  {
   "cell_type": "code",
   "execution_count": 31,
   "id": "5fd0053a-e89b-48ac-8232-0ddf95ee27bf",
   "metadata": {},
   "outputs": [
    {
     "name": "stdout",
     "output_type": "stream",
     "text": [
      "done saved ../../data/democracy_all_predictions_020824.csv|xlsx\n"
     ]
    }
   ],
   "source": [
    "current_date = datetime.now()\n",
    "# Format the date\n",
    "formatted_date = current_date.strftime('%d%m%y')\n",
    "file_name = f\"../../data/democracy_all_predictions_{formatted_date}\"\n",
    "#file_name = f\"democracy_all_predictions_temp_{formatted_date}\"\n",
    "df_out.to_csv(f\"{file_name}.csv\", index=False)\n",
    "df_out.to_excel(f\"{file_name}.xlsx\", index=False)\n",
    "print(f\"done saved {file_name}.csv|xlsx\")"
   ]
  },
  {
   "cell_type": "code",
   "execution_count": null,
   "id": "6b8fe8c6-05a2-42f3-9fc2-51617809f47a",
   "metadata": {},
   "outputs": [],
   "source": []
  }
 ],
 "metadata": {
  "kernelspec": {
   "display_name": "Python 3 (ipykernel)",
   "language": "python",
   "name": "python3"
  },
  "language_info": {
   "codemirror_mode": {
    "name": "ipython",
    "version": 3
   },
   "file_extension": ".py",
   "mimetype": "text/x-python",
   "name": "python",
   "nbconvert_exporter": "python",
   "pygments_lexer": "ipython3",
   "version": "3.11.7"
  }
 },
 "nbformat": 4,
 "nbformat_minor": 5
}
