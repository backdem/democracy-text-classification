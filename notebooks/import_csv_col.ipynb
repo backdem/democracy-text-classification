{
 "cells": [
  {
   "cell_type": "code",
   "execution_count": 1,
   "id": "4917da0c-3454-4895-a92a-3d30ec00069e",
   "metadata": {},
   "outputs": [],
   "source": [
    "import pandas as pd\n",
    "from datetime import datetime\n"
   ]
  },
  {
   "cell_type": "code",
   "execution_count": 2,
   "id": "350f189e-ee18-4a3d-abd8-19211b73b9db",
   "metadata": {},
   "outputs": [],
   "source": [
    "file_one = '../../data/democracy_dimensions_predictions_120724.csv'\n",
    "file_to_import_col = '../../data/democracy_backsliding123_predictions_130724.csv'\n",
    "import_column_name = 'predicted_backsliding_123'"
   ]
  },
  {
   "cell_type": "code",
   "execution_count": 5,
   "id": "28aacd70-7c40-4de6-a32d-2c2318bc56b4",
   "metadata": {},
   "outputs": [
    {
     "name": "stderr",
     "output_type": "stream",
     "text": [
      "/tmp/ipykernel_1110977/676450801.py:1: DtypeWarning: Columns (4,5,6,8,9,10,12,13,14,17,18,19,20,21) have mixed types. Specify dtype option on import or set low_memory=False.\n",
      "  df_out = pd.read_csv(file_one)\n",
      "/tmp/ipykernel_1110977/676450801.py:2: DtypeWarning: Columns (4,5,6,8,9,10,12,13,14,17,18,19,20,21) have mixed types. Specify dtype option on import or set low_memory=False.\n",
      "  df2 = pd.read_csv(file_to_import_col)\n"
     ]
    },
    {
     "name": "stdout",
     "output_type": "stream",
     "text": [
      "                                                 sentence   country  year  \\\n",
      "220252  greco recalls that this recommendation was con...  portugal  2013   \n",
      "\n",
      "       source dimension1_r1 dimension2_r1 backsliding_r1  start_idea_r1  \\\n",
      "220252  greco           NaN           NaN            NaN            NaN   \n",
      "\n",
      "       dimension0_r2 dimension1_r2  ... backsliding_r3  start_idea_r2  \\\n",
      "220252           NaN           NaN  ...            NaN            NaN   \n",
      "\n",
      "       start_idea_r3 dimension0_r1 correct_dimension  expalained_ambiquous  \\\n",
      "220252           NaN           NaN               NaN                   NaN   \n",
      "\n",
      "        dimension0 correct_backsliding predicted_dim_roberta  \\\n",
      "220252         NaN                 NaN             ambiguous   \n",
      "\n",
      "       predicted_dim_roberta_no_ambiguous  \n",
      "220252                            liberal  \n",
      "\n",
      "[1 rows x 25 columns]\n",
      "                                                 sentence country  year  \\\n",
      "259805  the get notes that the current code of police ...  serbia  2021   \n",
      "\n",
      "       source dimension1_r1 dimension2_r1 backsliding_r1  start_idea_r1  \\\n",
      "259805  greco           NaN           NaN            NaN            NaN   \n",
      "\n",
      "       dimension0_r2 dimension1_r2  ... dimension2_r3  backsliding_r3  \\\n",
      "259805           NaN           NaN  ...           NaN             NaN   \n",
      "\n",
      "       start_idea_r2 start_idea_r3 dimension0_r1  correct_dimension  \\\n",
      "259805           NaN           NaN           NaN                NaN   \n",
      "\n",
      "        expalained_ambiquous dimension0 correct_backsliding  \\\n",
      "259805                   NaN        NaN                 NaN   \n",
      "\n",
      "       predicted_backsliding_123  \n",
      "259805                       3.0  \n",
      "\n",
      "[1 rows x 24 columns]\n"
     ]
    }
   ],
   "source": [
    "df_out = pd.read_csv(file_one)\n",
    "df2 = pd.read_csv(file_to_import_col)\n",
    "\n",
    "print(df_out.sample(1))\n",
    "print(df2.sample(1))\n",
    "\n",
    "df_out[import_column_name] = None"
   ]
  },
  {
   "cell_type": "code",
   "execution_count": 7,
   "id": "6296673e-49df-4f04-ba15-aa55acd45fab",
   "metadata": {},
   "outputs": [],
   "source": [
    "def compare_first_n_words(str1, str2, n=4):\n",
    "    str1 = str1.lower()\n",
    "    str2 = str2.lower()\n",
    "    # Split the strings into words\n",
    "    words1 = str1.split()\n",
    "    words2 = str2.split()\n",
    "\n",
    "    # Take the first 4 words of each string\n",
    "    first_4_words1 = words1[:n]\n",
    "    first_4_words2 = words2[:n]\n",
    "\n",
    "    # Compare the first 4 words\n",
    "    if first_4_words1 == first_4_words2:\n",
    "        return True\n",
    "    else:\n",
    "        return False"
   ]
  },
  {
   "cell_type": "code",
   "execution_count": 9,
   "id": "5f53c486-e9c7-4984-bda3-12c7e938b39a",
   "metadata": {},
   "outputs": [],
   "source": [
    "for i2, row2 in df2.iterrows():\n",
    "    s2 = row2['sentence']\n",
    "    s1 = df_out.loc[i2, 'sentence']\n",
    "    if not compare_first_n_words(s2,s1):\n",
    "        print(f'WARNING sentences do not match {s1} {s2}')\n",
    "    df_out.loc[i2, import_column_name] = df2.loc[i2, import_column_name]"
   ]
  },
  {
   "cell_type": "code",
   "execution_count": 11,
   "id": "5fd0053a-e89b-48ac-8232-0ddf95ee27bf",
   "metadata": {},
   "outputs": [
    {
     "name": "stdout",
     "output_type": "stream",
     "text": [
      "done\n"
     ]
    }
   ],
   "source": [
    "current_date = datetime.now()\n",
    "# Format the date\n",
    "formatted_date = current_date.strftime('%d%m%y')\n",
    "file_name = f\"../../data/democracy_all_predictions_{formatted_date}\"\n",
    "df_out.to_csv(f\"{file_name}.csv\", index=False)\n",
    "df_out.to_excel(f\"{file_name}.xlsx\", index=False)\n",
    "print(\"done\")"
   ]
  },
  {
   "cell_type": "code",
   "execution_count": null,
   "id": "6b8fe8c6-05a2-42f3-9fc2-51617809f47a",
   "metadata": {},
   "outputs": [],
   "source": []
  }
 ],
 "metadata": {
  "kernelspec": {
   "display_name": "Python 3 (ipykernel)",
   "language": "python",
   "name": "python3"
  },
  "language_info": {
   "codemirror_mode": {
    "name": "ipython",
    "version": 3
   },
   "file_extension": ".py",
   "mimetype": "text/x-python",
   "name": "python",
   "nbconvert_exporter": "python",
   "pygments_lexer": "ipython3",
   "version": "3.11.7"
  }
 },
 "nbformat": 4,
 "nbformat_minor": 5
}
