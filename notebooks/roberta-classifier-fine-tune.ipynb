{
 "cells": [
  {
   "cell_type": "code",
   "execution_count": 1,
   "id": "da8588ef-60db-4f9c-a6de-e9f63d03129a",
   "metadata": {
    "tags": []
   },
   "outputs": [],
   "source": [
    "# N.B. Activate .env ?\n",
    "import numpy as np\n",
    "import pandas as pd\n",
    "import os\n",
    "#import pyarrow\n",
    "from sklearn import metrics\n",
    "import transformers\n",
    "import torch\n",
    "from torch.utils.data import Dataset, DataLoader, RandomSampler, SequentialSampler\n",
    "#from transformers import BertTokenizer, BertModel, BertConfig\n",
    "from transformers import RobertaTokenizer, RobertaModel, RobertaConfig\n",
    "from prep_input_data import get_vectorized_labelled_data\n"
   ]
  },
  {
   "cell_type": "code",
   "execution_count": 2,
   "id": "e868df8d-0e2b-45d9-bf04-e88c8e98cd4d",
   "metadata": {},
   "outputs": [
    {
     "name": "stdout",
     "output_type": "stream",
     "text": [
      "Using device: cpu\n"
     ]
    }
   ],
   "source": [
    "from torch import cuda\n",
    "device = 'cuda' if cuda.is_available() else 'cpu'\n",
    "print(\"Using device: \" + device)"
   ]
  },
  {
   "cell_type": "code",
   "execution_count": 3,
   "id": "2edcfaa5-02a9-4cc4-b35f-e2ae6e2bc180",
   "metadata": {},
   "outputs": [],
   "source": [
    "# Corpus and dictionary files to use\n",
    "corpus_file = '../../data/democracy_reports_corpus_merged_040624.csv'\n",
    "output_label_column = 'dimension0'\n",
    "input_label_column = 'dimension0'\n"
   ]
  },
  {
   "cell_type": "code",
   "execution_count": 4,
   "id": "0c6f1fdf-2652-4beb-a0cf-62bf35ed4f53",
   "metadata": {},
   "outputs": [],
   "source": [
    "#df = pd.read_csv(corpus_file)\n",
    "#print(df.columns)"
   ]
  },
  {
   "cell_type": "code",
   "execution_count": 5,
   "id": "5a61e99b-9e5e-4fe2-853f-f6ad51735c35",
   "metadata": {},
   "outputs": [
    {
     "name": "stderr",
     "output_type": "stream",
     "text": [
      "/Users/reggie/Workspace/backdem/democracy-text-classification/notebooks/prep_input_data.py:84: DtypeWarning: Columns (4,5,6,8,9,10,12,13,14,17,18,19,20,21,22) have mixed types. Specify dtype option on import or set low_memory=False.\n",
      "  df = pd.read_csv(corpus_file, dtype={'year': str},comment='#')\n"
     ]
    },
    {
     "name": "stdout",
     "output_type": "stream",
     "text": [
      "                                                 sentence   country  year  \\\n",
      "0       \"The president is directly elected for up to t...    turkey  2021   \n",
      "1       \"If no candidate wins an absolute majority of ...    turkey  2021   \n",
      "2       \"President Erdoğan has retained a dominant rol...    turkey  2021   \n",
      "3       \"A 2017 constitutional referendum instituted a...    turkey  2021   \n",
      "4       \"The snap June 2018 presidential election, whi...    turkey  2021   \n",
      "...                                                   ...       ...   ...   \n",
      "457907  virtual country visit to slovakia in the conte...  slovakia  2020   \n",
      "457908  world economic forum (2013-2020), the global c...  slovakia  2020   \n",
      "457909                annex ii: country visit to slovakia  slovakia  2020   \n",
      "457910  the commission services held virtual meetings ...  slovakia  2020   \n",
      "457911  * the commission also met the following organi...  slovakia  2020   \n",
      "\n",
      "                             source          dimension1_r1     dimension2_r1  \\\n",
      "0       freedomhouse_freedom-world\"              elections               NaN   \n",
      "1       freedomhouse_freedom-world\"              elections               NaN   \n",
      "2       freedomhouse_freedom-world\"  political competition               NaN   \n",
      "3       freedomhouse_freedom-world\"  political competition  direct democracy   \n",
      "4       freedomhouse_freedom-world\"  political competition               NaN   \n",
      "...                             ...                    ...               ...   \n",
      "457907               eu_rule_of_law              ambiguous               NaN   \n",
      "457908               eu_rule_of_law              ambiguous               NaN   \n",
      "457909               eu_rule_of_law              ambiguous               NaN   \n",
      "457910               eu_rule_of_law              ambiguous               NaN   \n",
      "457911               eu_rule_of_law              ambiguous               NaN   \n",
      "\n",
      "       backsliding_r1  start_idea_r1 dimension0_r2          dimension1_r2  \\\n",
      "0                   3            1.0     electoral              elections   \n",
      "1                   3            NaN     electoral              elections   \n",
      "2                   2            1.0     electoral              elections   \n",
      "3                   2            NaN     electoral  political competition   \n",
      "4                   3            NaN     electoral              elections   \n",
      "...               ...            ...           ...                    ...   \n",
      "457907            0.0            NaN     ambiguous              ambiguous   \n",
      "457908            0.0            NaN     ambiguous              ambiguous   \n",
      "457909            0.0            NaN     ambiguous              ambiguous   \n",
      "457910            0.0            NaN     ambiguous              ambiguous   \n",
      "457911            0.0            NaN     ambiguous              ambiguous   \n",
      "\n",
      "        ... dimension2_r3  backsliding_r3 start_idea_r2 start_idea_r3  \\\n",
      "0       ...           NaN             3.0           1.0           NaN   \n",
      "1       ...           NaN             3.0           NaN           NaN   \n",
      "2       ...           NaN             2.0           NaN           NaN   \n",
      "3       ...           NaN             2.0           1.0           NaN   \n",
      "4       ...           NaN             2.0           NaN           NaN   \n",
      "...     ...           ...             ...           ...           ...   \n",
      "457907  ...           NaN             NaN           NaN           NaN   \n",
      "457908  ...           NaN             NaN           NaN           NaN   \n",
      "457909  ...           NaN             NaN           NaN           NaN   \n",
      "457910  ...           NaN             NaN           NaN           NaN   \n",
      "457911  ...           NaN             NaN           NaN           NaN   \n",
      "\n",
      "       dimension0_r1  correct_dimension    expalained_ambiquous Unnamed: 21  \\\n",
      "0          electoral          electoral                     NaN         NaN   \n",
      "1          electoral          electoral                     NaN         NaN   \n",
      "2          electoral          electoral                     NaN         NaN   \n",
      "3          electoral          electoral                     NaN         NaN   \n",
      "4          electoral          electoral                     NaN         NaN   \n",
      "...              ...                ...                     ...         ...   \n",
      "457907     ambiguous          ambiguous  not part of the report         NaN   \n",
      "457908     ambiguous          ambiguous  not part of the report         NaN   \n",
      "457909     ambiguous          ambiguous  not part of the report         NaN   \n",
      "457910     ambiguous          ambiguous  not part of the report         NaN   \n",
      "457911     ambiguous          ambiguous  not part of the report         NaN   \n",
      "\n",
      "       dimension0        label_vector  \n",
      "0       electoral  [0, 0, 1, 0, 0, 0]  \n",
      "1       electoral  [0, 0, 1, 0, 0, 0]  \n",
      "2       electoral  [0, 0, 1, 0, 0, 0]  \n",
      "3       electoral  [0, 0, 1, 0, 0, 0]  \n",
      "4       electoral  [0, 0, 1, 0, 0, 0]  \n",
      "...           ...                 ...  \n",
      "457907  ambiguous  [1, 0, 0, 0, 0, 0]  \n",
      "457908  ambiguous  [1, 0, 0, 0, 0, 0]  \n",
      "457909  ambiguous  [1, 0, 0, 0, 0, 0]  \n",
      "457910  ambiguous  [1, 0, 0, 0, 0, 0]  \n",
      "457911  ambiguous  [1, 0, 0, 0, 0, 0]  \n",
      "\n",
      "[2967 rows x 24 columns]\n"
     ]
    }
   ],
   "source": [
    "#df_labelled = get_vectorized_labelled_data(corpus_file, column=input_label_column, group_by_idea=True)\n",
    "df_labelled = get_vectorized_labelled_data(corpus_file, column=input_label_column, group_by_idea=False)\n",
    "print(df_labelled)"
   ]
  },
  {
   "cell_type": "code",
   "execution_count": 6,
   "id": "020facd7-e462-4f9a-a4a3-1bb185abed9a",
   "metadata": {},
   "outputs": [
    {
     "name": "stdout",
     "output_type": "stream",
     "text": [
      "Labels: ['ambiguous', 'democracy', 'electoral', 'liberal', 'media', 'participatory']\n"
     ]
    }
   ],
   "source": [
    "# Get label names\n",
    "labels = sorted(df_labelled[output_label_column].dropna().unique())\n",
    "print(f'Labels: {labels}')"
   ]
  },
  {
   "cell_type": "code",
   "execution_count": 7,
   "id": "83645662-fac0-4e9c-ac4d-1126c39b8b93",
   "metadata": {
    "tags": []
   },
   "outputs": [
    {
     "data": {
      "text/plain": [
       "<Axes: ylabel='dimension0'>"
      ]
     },
     "execution_count": 7,
     "metadata": {},
     "output_type": "execute_result"
    },
    {
     "data": {
      "image/png": "[encoded data removed]",
      "text/plain": [
       "<Figure size 640x480 with 1 Axes>"
      ]
     },
     "metadata": {},
     "output_type": "display_data"
    }
   ],
   "source": [
    "# Count the different classes to check how balanced they are\n",
    "value_counts_dimension1 = df_labelled[output_label_column].value_counts()\n",
    "value_counts_dimension1.sort_values().plot(kind=\"barh\")"
   ]
  },
  {
   "cell_type": "code",
   "execution_count": 8,
   "id": "b06f297b-13c1-4775-b201-bc4b0d92d24a",
   "metadata": {},
   "outputs": [],
   "source": [
    "FRACTION_OF_DS_TO_USE = 1\n",
    "MAX_LEN = 512\n",
    "TRAIN_BATCH_SIZE = 8\n",
    "VALID_BATCH_SIZE = 4\n",
    "EPOCHS = 10\n",
    "LEARNING_RATE = 1e-05\n",
    "NO_LABELS = len(labels)\n",
    "MAX_LOSS = 0.05\n",
    "\n",
    "tokenizer = RobertaTokenizer.from_pretrained('roberta-base')\n"
   ]
  },
  {
   "cell_type": "code",
   "execution_count": 10,
   "id": "d8340b0d-717f-4135-a422-a0d9d8e83059",
   "metadata": {},
   "outputs": [
    {
     "data": {
      "text/html": [
       "<div>\n",
       "<style scoped>\n",
       "    .dataframe tbody tr th:only-of-type {\n",
       "        vertical-align: middle;\n",
       "    }\n",
       "\n",
       "    .dataframe tbody tr th {\n",
       "        vertical-align: top;\n",
       "    }\n",
       "\n",
       "    .dataframe thead th {\n",
       "        text-align: right;\n",
       "    }\n",
       "</style>\n",
       "<table border=\"1\" class=\"dataframe\">\n",
       "  <thead>\n",
       "    <tr style=\"text-align: right;\">\n",
       "      <th></th>\n",
       "      <th>sentence</th>\n",
       "      <th>dimension0</th>\n",
       "      <th>label_vector</th>\n",
       "    </tr>\n",
       "  </thead>\n",
       "  <tbody>\n",
       "    <tr>\n",
       "      <th>332</th>\n",
       "      <td>\"In November, the ESMA rebuked the Federal Fin...</td>\n",
       "      <td>liberal</td>\n",
       "      <td>[0, 0, 0, 1, 0, 0]</td>\n",
       "    </tr>\n",
       "    <tr>\n",
       "      <th>416</th>\n",
       "      <td>\"Freedom of movement is legally protected and ...</td>\n",
       "      <td>liberal</td>\n",
       "      <td>[0, 0, 0, 1, 0, 0]</td>\n",
       "    </tr>\n",
       "    <tr>\n",
       "      <th>111</th>\n",
       "      <td>\"The government has also targeted LGBT+ events...</td>\n",
       "      <td>liberal</td>\n",
       "      <td>[0, 0, 0, 1, 0, 0]</td>\n",
       "    </tr>\n",
       "    <tr>\n",
       "      <th>455383</th>\n",
       "      <td>a number of reforms of the justice system were...</td>\n",
       "      <td>liberal</td>\n",
       "      <td>[0, 0, 0, 1, 0, 0]</td>\n",
       "    </tr>\n",
       "    <tr>\n",
       "      <th>457890</th>\n",
       "      <td>european network of councils for the judiciary...</td>\n",
       "      <td>ambiguous</td>\n",
       "      <td>[1, 0, 0, 0, 0, 0]</td>\n",
       "    </tr>\n",
       "    <tr>\n",
       "      <th>85405</th>\n",
       "      <td>\"Among mobile service providers, EE (owned by ...</td>\n",
       "      <td>ambiguous</td>\n",
       "      <td>[1, 0, 0, 0, 0, 0]</td>\n",
       "    </tr>\n",
       "    <tr>\n",
       "      <th>41411</th>\n",
       "      <td>\"He has also contributed to the Guardian, Wash...</td>\n",
       "      <td>ambiguous</td>\n",
       "      <td>[1, 0, 0, 0, 0, 0]</td>\n",
       "    </tr>\n",
       "    <tr>\n",
       "      <th>456009</th>\n",
       "      <td>council of europe: committee of ministers (201...</td>\n",
       "      <td>ambiguous</td>\n",
       "      <td>[1, 0, 0, 0, 0, 0]</td>\n",
       "    </tr>\n",
       "    <tr>\n",
       "      <th>456597</th>\n",
       "      <td>in that regard, the council of europe had prev...</td>\n",
       "      <td>liberal</td>\n",
       "      <td>[0, 0, 0, 1, 0, 0]</td>\n",
       "    </tr>\n",
       "    <tr>\n",
       "      <th>63412</th>\n",
       "      <td>\"Buhovski, Anita, “ИЗГЛАСАН ЗАКОНОТ ЗА АНТИДИС...</td>\n",
       "      <td>ambiguous</td>\n",
       "      <td>[1, 0, 0, 0, 0, 0]</td>\n",
       "    </tr>\n",
       "  </tbody>\n",
       "</table>\n",
       "</div>"
      ],
      "text/plain": [
       "                                                 sentence dimension0  \\\n",
       "332     \"In November, the ESMA rebuked the Federal Fin...    liberal   \n",
       "416     \"Freedom of movement is legally protected and ...    liberal   \n",
       "111     \"The government has also targeted LGBT+ events...    liberal   \n",
       "455383  a number of reforms of the justice system were...    liberal   \n",
       "457890  european network of councils for the judiciary...  ambiguous   \n",
       "85405   \"Among mobile service providers, EE (owned by ...  ambiguous   \n",
       "41411   \"He has also contributed to the Guardian, Wash...  ambiguous   \n",
       "456009  council of europe: committee of ministers (201...  ambiguous   \n",
       "456597  in that regard, the council of europe had prev...    liberal   \n",
       "63412   \"Buhovski, Anita, “ИЗГЛАСАН ЗАКОНОТ ЗА АНТИДИС...  ambiguous   \n",
       "\n",
       "              label_vector  \n",
       "332     [0, 0, 0, 1, 0, 0]  \n",
       "416     [0, 0, 0, 1, 0, 0]  \n",
       "111     [0, 0, 0, 1, 0, 0]  \n",
       "455383  [0, 0, 0, 1, 0, 0]  \n",
       "457890  [1, 0, 0, 0, 0, 0]  \n",
       "85405   [1, 0, 0, 0, 0, 0]  \n",
       "41411   [1, 0, 0, 0, 0, 0]  \n",
       "456009  [1, 0, 0, 0, 0, 0]  \n",
       "456597  [0, 0, 0, 1, 0, 0]  \n",
       "63412   [1, 0, 0, 0, 0, 0]  "
      ]
     },
     "execution_count": 10,
     "metadata": {},
     "output_type": "execute_result"
    }
   ],
   "source": [
    "# Use part of the dataset\n",
    "new_df = df_labelled.sample(frac=FRACTION_OF_DS_TO_USE, random_state=200)\n",
    "# Display a sample of the dataset\n",
    "new_df.sample(10)[['sentence', 'dimension0', 'label_vector']]"
   ]
  },
  {
   "cell_type": "code",
   "execution_count": 11,
   "id": "caf982b0-ceba-4f6a-b82a-de77aa727c83",
   "metadata": {},
   "outputs": [],
   "source": [
    "class CustomDataset(Dataset):\n",
    "\n",
    "    def __init__(self, dataframe, tokenizer, max_len):\n",
    "        self.tokenizer = tokenizer\n",
    "        self.data = dataframe\n",
    "        self.comment_text = dataframe.sentence\n",
    "        self.targets = self.data.label_vector\n",
    "        self.max_len = max_len\n",
    "\n",
    "    def __len__(self):\n",
    "        return len(self.comment_text)\n",
    "\n",
    "    def __getitem__(self, index):\n",
    "        comment_text = str(self.comment_text[index])\n",
    "        comment_text = \" \".join(comment_text.split())\n",
    "\n",
    "        inputs = self.tokenizer.encode_plus(\n",
    "            comment_text,\n",
    "            None,\n",
    "            add_special_tokens=True,\n",
    "            max_length=self.max_len,\n",
    "            padding='max_length',\n",
    "            truncation=True,\n",
    "            return_token_type_ids=True\n",
    "        )\n",
    "        ids = inputs['input_ids']\n",
    "        mask = inputs['attention_mask']\n",
    "        token_type_ids = inputs[\"token_type_ids\"]\n",
    "\n",
    "\n",
    "        return {\n",
    "            'ids': torch.tensor(ids, dtype=torch.long),\n",
    "            'mask': torch.tensor(mask, dtype=torch.long),\n",
    "            'token_type_ids': torch.tensor(token_type_ids, dtype=torch.long),\n",
    "            'targets': torch.tensor(self.targets[index], dtype=torch.float)\n",
    "        }"
   ]
  },
  {
   "cell_type": "code",
   "execution_count": 12,
   "id": "aba08395-2d99-4a90-86e2-b9ae7126776c",
   "metadata": {},
   "outputs": [
    {
     "name": "stdout",
     "output_type": "stream",
     "text": [
      "FULL Dataset: (2967, 24)\n",
      "TRAIN Dataset: (2374, 24)\n",
      "TEST Dataset: (593, 24)\n"
     ]
    }
   ],
   "source": [
    "train_size = 0.8\n",
    "train_dataset=new_df.sample(frac=train_size,random_state=200)\n",
    "test_dataset=new_df.drop(train_dataset.index).reset_index(drop=True)\n",
    "train_dataset = train_dataset.reset_index(drop=True)\n",
    "\n",
    "print(\"FULL Dataset: {}\".format(new_df.shape))\n",
    "print(\"TRAIN Dataset: {}\".format(train_dataset.shape))\n",
    "print(\"TEST Dataset: {}\".format(test_dataset.shape))\n",
    "\n",
    "training_set = CustomDataset(train_dataset, tokenizer, MAX_LEN)\n",
    "testing_set = CustomDataset(test_dataset, tokenizer, MAX_LEN)"
   ]
  },
  {
   "cell_type": "code",
   "execution_count": 13,
   "id": "6d82edb5-41e4-47ed-a8b1-b4604f4182aa",
   "metadata": {},
   "outputs": [
    {
     "data": {
      "text/plain": [
       "<Axes: ylabel='dimension0'>"
      ]
     },
     "execution_count": 13,
     "metadata": {},
     "output_type": "execute_result"
    },
    {
     "data": {
      "image/png": "[encoded data removed]",
      "text/plain": [
       "<Figure size 640x480 with 1 Axes>"
      ]
     },
     "metadata": {},
     "output_type": "display_data"
    }
   ],
   "source": [
    "#value_counts_dimension1_train = train_dataset[output_label_column].value_counts()\n",
    "#value_counts_dimension1_train.sort_values().plot(kind=\"barh\")\n",
    "value_counts_dimension1_test = test_dataset[output_label_column].value_counts()\n",
    "value_counts_dimension1_test.sort_values().plot(kind=\"barh\")"
   ]
  },
  {
   "cell_type": "code",
   "execution_count": 14,
   "id": "56ef5fc2-7e42-492f-b784-60af2502b989",
   "metadata": {},
   "outputs": [],
   "source": [
    "train_params = {'batch_size': TRAIN_BATCH_SIZE,\n",
    "                'shuffle': True,\n",
    "                'num_workers': 0\n",
    "                }\n",
    "\n",
    "test_params = {'batch_size': VALID_BATCH_SIZE,\n",
    "                'shuffle': True,\n",
    "                'num_workers': 0\n",
    "                }\n",
    "\n",
    "training_loader = DataLoader(training_set, **train_params)\n",
    "testing_loader = DataLoader(testing_set, **test_params)"
   ]
  },
  {
   "cell_type": "code",
   "execution_count": 15,
   "id": "63817466-1fa8-4374-98ae-754830ef222d",
   "metadata": {},
   "outputs": [
    {
     "name": "stderr",
     "output_type": "stream",
     "text": [
      "Some weights of RobertaModel were not initialized from the model checkpoint at roberta-base and are newly initialized: ['roberta.pooler.dense.bias', 'roberta.pooler.dense.weight']\n",
      "You should probably TRAIN this model on a down-stream task to be able to use it for predictions and inference.\n"
     ]
    },
    {
     "data": {
      "text/plain": [
       "ROBERTAClass(\n",
       "  (l1): RobertaModel(\n",
       "    (embeddings): RobertaEmbeddings(\n",
       "      (word_embeddings): Embedding(50265, 768, padding_idx=1)\n",
       "      (position_embeddings): Embedding(514, 768, padding_idx=1)\n",
       "      (token_type_embeddings): Embedding(1, 768)\n",
       "      (LayerNorm): LayerNorm((768,), eps=1e-05, elementwise_affine=True)\n",
       "      (dropout): Dropout(p=0.1, inplace=False)\n",
       "    )\n",
       "    (encoder): RobertaEncoder(\n",
       "      (layer): ModuleList(\n",
       "        (0-11): 12 x RobertaLayer(\n",
       "          (attention): RobertaAttention(\n",
       "            (self): RobertaSelfAttention(\n",
       "              (query): Linear(in_features=768, out_features=768, bias=True)\n",
       "              (key): Linear(in_features=768, out_features=768, bias=True)\n",
       "              (value): Linear(in_features=768, out_features=768, bias=True)\n",
       "              (dropout): Dropout(p=0.1, inplace=False)\n",
       "            )\n",
       "            (output): RobertaSelfOutput(\n",
       "              (dense): Linear(in_features=768, out_features=768, bias=True)\n",
       "              (LayerNorm): LayerNorm((768,), eps=1e-05, elementwise_affine=True)\n",
       "              (dropout): Dropout(p=0.1, inplace=False)\n",
       "            )\n",
       "          )\n",
       "          (intermediate): RobertaIntermediate(\n",
       "            (dense): Linear(in_features=768, out_features=3072, bias=True)\n",
       "            (intermediate_act_fn): GELUActivation()\n",
       "          )\n",
       "          (output): RobertaOutput(\n",
       "            (dense): Linear(in_features=3072, out_features=768, bias=True)\n",
       "            (LayerNorm): LayerNorm((768,), eps=1e-05, elementwise_affine=True)\n",
       "            (dropout): Dropout(p=0.1, inplace=False)\n",
       "          )\n",
       "        )\n",
       "      )\n",
       "    )\n",
       "    (pooler): RobertaPooler(\n",
       "      (dense): Linear(in_features=768, out_features=768, bias=True)\n",
       "      (activation): Tanh()\n",
       "    )\n",
       "  )\n",
       "  (l2): Dropout(p=0.3, inplace=False)\n",
       "  (l3): Linear(in_features=768, out_features=6, bias=True)\n",
       ")"
      ]
     },
     "execution_count": 15,
     "metadata": {},
     "output_type": "execute_result"
    }
   ],
   "source": [
    "# Creating the customized model, by adding a drop out and a dense layer on top of distil bert to get the final output for the model. \n",
    "\n",
    "class ROBERTAClass(torch.nn.Module):\n",
    "    def __init__(self):\n",
    "        super(ROBERTAClass, self).__init__()\n",
    "        self.l1 = transformers.RobertaModel.from_pretrained('roberta-base')\n",
    "        self.l2 = torch.nn.Dropout(0.3)\n",
    "        self.l3 = torch.nn.Linear(768, NO_LABELS)\n",
    "    \n",
    "    def forward(self, ids, mask, token_type_ids):\n",
    "        _, output_1= self.l1(ids, attention_mask = mask, token_type_ids = token_type_ids, return_dict=False)\n",
    "        output_2 = self.l2(output_1)\n",
    "        output = self.l3(output_2)\n",
    "        return output\n",
    "\n",
    "model = ROBERTAClass()\n",
    "model.to(device)"
   ]
  },
  {
   "cell_type": "code",
   "execution_count": 16,
   "id": "976033ad-b99d-4064-afd8-c8b1735fff4e",
   "metadata": {},
   "outputs": [],
   "source": [
    "def loss_fn(outputs, targets):\n",
    "    return torch.nn.BCEWithLogitsLoss()(outputs, targets)"
   ]
  },
  {
   "cell_type": "code",
   "execution_count": 17,
   "id": "e4d1e80e-f264-49e5-9246-39c497e48c6b",
   "metadata": {},
   "outputs": [],
   "source": [
    "optimizer = torch.optim.Adam(params =  model.parameters(), lr=LEARNING_RATE)"
   ]
  },
  {
   "cell_type": "code",
   "execution_count": 18,
   "id": "2a6fc239-7a30-447e-8aca-fe460c4ae3a2",
   "metadata": {},
   "outputs": [],
   "source": [
    "def train(epoch):\n",
    "    model.train()\n",
    "    for _,data in enumerate(training_loader, 0):\n",
    "        ids = data['ids'].to(device, dtype = torch.long)\n",
    "        mask = data['mask'].to(device, dtype = torch.long)\n",
    "        token_type_ids = data['token_type_ids'].to(device, dtype = torch.long)\n",
    "        targets = data['targets'].to(device, dtype = torch.float)\n",
    "\n",
    "        outputs = model(ids, mask, token_type_ids)\n",
    "\n",
    "        optimizer.zero_grad()\n",
    "        loss = loss_fn(outputs, targets)\n",
    "        if _%500==0:\n",
    "            print(f'Epoch: {epoch}, Loss:  {loss.item()}')\n",
    "        if loss.item() < MAX_LOSS:\n",
    "            break\n",
    "        \n",
    "        optimizer.zero_grad()\n",
    "        loss.backward()\n",
    "        optimizer.step()\n",
    "    return loss"
   ]
  },
  {
   "cell_type": "code",
   "execution_count": null,
   "id": "23bc7deb-ef71-4496-a8ae-49419949da33",
   "metadata": {},
   "outputs": [
    {
     "name": "stdout",
     "output_type": "stream",
     "text": [
      "Epoch: 0, Loss:  0.7053881287574768\n"
     ]
    }
   ],
   "source": [
    "# Train\n",
    "for epoch in range(EPOCHS):\n",
    "    loss = train(epoch)\n",
    "    print(f'Epoch {epoch} done')\n",
    "    if loss.item() < MAX_LOSS:\n",
    "        print(f'Loss minimized to below {MAX_LOSS}')\n",
    "        break"
   ]
  },
  {
   "cell_type": "code",
   "execution_count": 18,
   "id": "92565cc2-618d-4769-baf0-511e9b6f4a64",
   "metadata": {},
   "outputs": [],
   "source": [
    "from sklearn.metrics import confusion_matrix\n",
    "def validation():\n",
    "    model.eval()\n",
    "    fin_targets=[]\n",
    "    fin_outputs=[]\n",
    "    with torch.no_grad():\n",
    "        for _, data in enumerate(testing_loader, 0):\n",
    "            ids = data['ids'].to(device, dtype = torch.long)\n",
    "            mask = data['mask'].to(device, dtype = torch.long)\n",
    "            token_type_ids = data['token_type_ids'].to(device, dtype = torch.long)\n",
    "            targets = data['targets'].to(device, dtype = torch.float)\n",
    "            outputs = model(ids, mask, token_type_ids)\n",
    "            fin_targets.extend(targets.cpu().detach().numpy().tolist())\n",
    "            fin_outputs.extend(torch.sigmoid(outputs).cpu().detach().numpy().tolist())\n",
    "    return fin_outputs, fin_targets"
   ]
  },
  {
   "cell_type": "code",
   "execution_count": 19,
   "id": "63119e24-fa34-4b96-921b-03bc9191ae72",
   "metadata": {},
   "outputs": [],
   "source": [
    "from sklearn.metrics import confusion_matrix\n",
    "def validation_w_confusion():\n",
    "    model.eval()\n",
    "    fin_targets=[]\n",
    "    fin_outputs=[]\n",
    "    i_labels = []\n",
    "    with torch.no_grad():\n",
    "        for i, data in enumerate(testing_loader, 0):\n",
    "            ids = data['ids'].to(device, dtype = torch.long)\n",
    "            mask = data['mask'].to(device, dtype = torch.long)\n",
    "            token_type_ids = data['token_type_ids'].to(device, dtype = torch.long)\n",
    "            targets = data['targets'].to(device, dtype = torch.float)\n",
    "            \n",
    "            outputs = model(ids, mask, token_type_ids)\n",
    "            fin_targets.extend(targets.cpu().detach().numpy().tolist())\n",
    "            fin_outputs.extend(torch.sigmoid(outputs).cpu().detach().numpy().tolist())\n",
    "            i_labels.append(test_dataset.iloc[i][output_label_column])\n",
    "            #print(ids)\n",
    "            #print(targets)\n",
    "            #print(fin_targets)\n",
    "            #print(fin_outputs)\n",
    "            #break\n",
    "\n",
    "    # Convert lists to numpy arrays\n",
    "    fin_targets = np.array(fin_targets)\n",
    "    fin_outputs = np.array(fin_outputs)\n",
    "    \n",
    "    # Get predicted labels by thresholding the predicted probabilities\n",
    "    predicted_labels = (fin_outputs > 0.5).astype(int)\n",
    "    \n",
    "    # Compute confusion matrix\n",
    "    conf_matrix = confusion_matrix(fin_targets.argmax(axis=1), predicted_labels.argmax(axis=1))\n",
    "    return fin_outputs, fin_targets, conf_matrix, i_labels\n",
    "    #return fin_outputs, fin_targets"
   ]
  },
  {
   "cell_type": "code",
   "execution_count": 20,
   "id": "dd9fb40f-c281-4f5e-813e-b2939c519c62",
   "metadata": {},
   "outputs": [
    {
     "name": "stdout",
     "output_type": "stream",
     "text": [
      "Accuracy Score = 0.7317073170731707\n",
      "F1 Score (Micro) = 0.7588270496708557\n",
      "F1 Score (Macro) = 0.717606030445981\n"
     ]
    }
   ],
   "source": [
    "# Validation\n",
    "outputs, targets, confusion_matrix, f_labels = validation_w_confusion()\n",
    "outputs_a = np.array(outputs) >= 0.5\n",
    "accuracy = metrics.accuracy_score(targets, outputs_a)\n",
    "f1_score_micro = metrics.f1_score(targets, outputs_a, average='micro', zero_division=1)\n",
    "f1_score_macro = metrics.f1_score(targets, outputs_a, average='macro', zero_division=1)\n",
    "print(f\"Accuracy Score = {accuracy}\")\n",
    "print(f\"F1 Score (Micro) = {f1_score_micro}\")\n",
    "print(f\"F1 Score (Macro) = {f1_score_macro}\")\n",
    "# Check https://stephenallwright.com/micro-vs-macro-f1-score/"
   ]
  },
  {
   "cell_type": "code",
   "execution_count": 23,
   "id": "79fcd6a8-8557-4f79-8a2f-cc8869ee356c",
   "metadata": {},
   "outputs": [
    {
     "name": "stdout",
     "output_type": "stream",
     "text": [
      "['ambiguous', 'electoral', 'liberal', 'media', 'participatory']\n",
      "[[ 99  10  52  13   7]\n",
      " [ 11 183  19   1   1]\n",
      " [ 11  15 277   4   9]\n",
      " [  8   2   8  42   1]\n",
      " [  9   8  13   2  56]]\n"
     ]
    }
   ],
   "source": [
    "print(sorted(set(f_labels)))\n",
    "print(confusion_matrix)"
   ]
  },
  {
   "cell_type": "code",
   "execution_count": 31,
   "id": "8c9720e3-3ad8-4b31-a03b-fc10f73b82f4",
   "metadata": {},
   "outputs": [
    {
     "name": "stdout",
     "output_type": "stream",
     "text": [
      "\"Under Polish law, abortion is permissible through the 12th week of pregnancy if a woman’s health or life is in danger or if the pregnancy is a result of a criminal act such as rape.\n"
     ]
    }
   ],
   "source": [
    "# Test our inputs\n",
    "# Choose a sentence\n",
    "#sample_row = new_df.sample()[['sentence', 'label_vector']]\n",
    "sample_row = df_labelled.sample()[['sentence']]\n",
    "sample_text = sample_row['sentence'].values[0]\n",
    "print(sample_text)"
   ]
  },
  {
   "cell_type": "code",
   "execution_count": 32,
   "id": "cc54eafc-5ed3-48f5-9d24-e813d243f1f6",
   "metadata": {},
   "outputs": [
    {
     "name": "stdout",
     "output_type": "stream",
     "text": [
      "ambiguous: 0.038549892604351044\n",
      "electoral: 0.045237962156534195\n",
      "liberal: 0.93044114112854\n",
      "media: 0.02123861387372017\n",
      "participatory: 0.013361451216042042\n"
     ]
    }
   ],
   "source": [
    "def get_dimension_from_prediction(v, l=labels):    \n",
    "    index = v.index(max(v))\n",
    "    if max(v) < 0.5:\n",
    "        return \"NoClass\"\n",
    "    else:\n",
    "        return l[index]\n",
    "    \n",
    "# Encode the sentence\n",
    "encoding = tokenizer.encode_plus(\n",
    "  sample_text.lower(),\n",
    "  add_special_tokens=True,\n",
    "  max_length=MAX_LEN,\n",
    "  padding='max_length',\n",
    "  truncation=True,\n",
    "  return_token_type_ids=True,\n",
    "  return_tensors='pt'\n",
    ")\n",
    "\n",
    "input_ids = encoding[\"input_ids\"]\n",
    "mask = encoding[\"attention_mask\"]\n",
    "token_type_ids = encoding[\"token_type_ids\"]\n",
    "input_ids = input_ids.to(device, dtype=torch.long)\n",
    "mask = mask.to(device, dtype=torch.long)\n",
    "token_type_ids = token_type_ids.to(device, dtype=torch.long)\n",
    "\n",
    "# Inference\n",
    "output = torch.sigmoid(model(input_ids, mask, token_type_ids))\n",
    "predictions = output[0].tolist()\n",
    "for label, prediction in zip(labels, predictions):\n",
    "    print(f\"{label}: {prediction}\")"
   ]
  },
  {
   "cell_type": "code",
   "execution_count": 33,
   "id": "e46c0102-e990-4da2-b6a2-1297260c77ad",
   "metadata": {},
   "outputs": [
    {
     "name": "stdout",
     "output_type": "stream",
     "text": [
      "Statement \"\"Under Polish law, abortion is permissible through the 12th week of pregnancy if a woman’s health or life is in danger or if the pregnancy is a result of a criminal act such as rape.\" was classified as: liberal.\n"
     ]
    }
   ],
   "source": [
    "result_dim = get_dimension_from_prediction(predictions)\n",
    "print(f'Statement \"{sample_text}\" was classified as: {result_dim}.')"
   ]
  },
  {
   "cell_type": "code",
   "execution_count": 27,
   "id": "87279a44-baf1-4913-b5d1-05eeb8471fab",
   "metadata": {},
   "outputs": [],
   "source": [
    "# Save model\n",
    "torch.save(model, 'ROBERTA_grouped_classifier_democracy.pth')\n",
    "#torch.save(model.state_dict(), 'ROBERTA_classifier_democracy_state_dict.pth')"
   ]
  },
  {
   "cell_type": "code",
   "execution_count": null,
   "id": "8cdeb72e-899d-4cd8-bd94-e3938b616517",
   "metadata": {},
   "outputs": [],
   "source": []
  }
 ],
 "metadata": {
  "kernelspec": {
   "display_name": "Python 3 (ipykernel)",
   "language": "python",
   "name": "python3"
  },
  "language_info": {
   "codemirror_mode": {
    "name": "ipython",
    "version": 3
   },
   "file_extension": ".py",
   "mimetype": "text/x-python",
   "name": "python",
   "nbconvert_exporter": "python",
   "pygments_lexer": "ipython3",
   "version": "3.11.7"
  }
 },
 "nbformat": 4,
 "nbformat_minor": 5
}
