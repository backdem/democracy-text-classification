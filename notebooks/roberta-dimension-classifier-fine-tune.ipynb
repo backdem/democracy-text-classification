{
 "cells": [
  {
   "cell_type": "code",
   "execution_count": 7,
   "id": "da8588ef-60db-4f9c-a6de-e9f63d03129a",
   "metadata": {
    "tags": []
   },
   "outputs": [],
   "source": [
    "# N.B. Activate .env ?\n",
    "import numpy as np\n",
    "import pandas as pd\n",
    "import os\n",
    "from datetime import datetime\n",
    "from sklearn import metrics\n",
    "import transformers\n",
    "import torch\n",
    "from torch.utils.data import Dataset, DataLoader, RandomSampler, SequentialSampler\n",
    "#from transformers import BertTokenizer, BertModel, BertConfig\n",
    "from transformers import RobertaTokenizer, RobertaModel, RobertaConfig\n",
    "from prep_input_data import get_vectorized_labelled_data\n"
   ]
  },
  {
   "cell_type": "code",
   "execution_count": 8,
   "id": "e868df8d-0e2b-45d9-bf04-e88c8e98cd4d",
   "metadata": {},
   "outputs": [
    {
     "name": "stdout",
     "output_type": "stream",
     "text": [
      "Using device: cpu\n"
     ]
    }
   ],
   "source": [
    "from torch import cuda\n",
    "device = 'cuda' if cuda.is_available() else 'cpu'\n",
    "print(\"Using device: \" + device)"
   ]
  },
  {
   "cell_type": "code",
   "execution_count": 69,
   "id": "2edcfaa5-02a9-4cc4-b35f-e2ae6e2bc180",
   "metadata": {},
   "outputs": [],
   "source": [
    "# Corpus and dictionary files to use\n",
    "corpus_file = '../../data/democracy_reports_corpus_290724.csv'\n",
    "output_label_column = 'dimension0'\n",
    "input_label_column = 'dimension0'\n",
    "DROP_AMBIGUOUS = True\n",
    "BALANCE_LABELS = False"
   ]
  },
  {
   "cell_type": "code",
   "execution_count": 70,
   "id": "c7e65a74-e8a1-40ac-80cd-69dcf585da36",
   "metadata": {},
   "outputs": [
    {
     "name": "stderr",
     "output_type": "stream",
     "text": [
      "/tmp/ipykernel_3560594/3032261243.py:1: DtypeWarning: Columns (4,5,6,8,9,10,12,13,14,17,18,19,20,21) have mixed types. Specify dtype option on import or set low_memory=False.\n",
      "  df = pd.read_csv(corpus_file, dtype={'year': str},comment='#')\n"
     ]
    }
   ],
   "source": [
    "df = pd.read_csv(corpus_file, dtype={'year': str},comment='#')\n",
    "\n",
    "# Drop ambigous class\n",
    "if (DROP_AMBIGUOUS == True):\n",
    "    df['dimension0'] = df['dimension0'].replace({'ambiguous': None})\n",
    "    #global corpus_file\n",
    "    corpus_file = './temp_data.csv'\n",
    "    df.to_csv(corpus_file, index=False)"
   ]
  },
  {
   "cell_type": "code",
   "execution_count": 71,
   "id": "5a61e99b-9e5e-4fe2-853f-f6ad51735c35",
   "metadata": {},
   "outputs": [
    {
     "name": "stdout",
     "output_type": "stream",
     "text": [
      "./temp_data.csv\n"
     ]
    },
    {
     "name": "stderr",
     "output_type": "stream",
     "text": [
      "/data/smurf_storage/backdem/democracy-text-classification/notebooks/prep_input_data.py:84: DtypeWarning: Columns (4,5,6,8,9,10,12,13,14,17,18,19,20,21) have mixed types. Specify dtype option on import or set low_memory=False.\n",
      "  df = pd.read_csv(corpus_file, dtype={'year': str},comment='#')\n"
     ]
    },
    {
     "name": "stdout",
     "output_type": "stream",
     "text": [
      "dimension0\n",
      "liberal          2334\n",
      "electoral        1092\n",
      "participatory     569\n",
      "media             475\n",
      "Name: count, dtype: int64\n"
     ]
    }
   ],
   "source": [
    "print(corpus_file)\n",
    "#df_labelled = get_vectorized_labelled_data(corpus_file, column=input_label_column, group_by_idea=True)\n",
    "df_labelled = get_vectorized_labelled_data(corpus_file, column=input_label_column, group_by_idea=False)\n",
    "#print(df_labelled.sample(1))\n",
    "print(df_labelled[input_label_column].value_counts())"
   ]
  },
  {
   "cell_type": "code",
   "execution_count": 72,
   "id": "e827efd6-4f80-40be-b5bd-eece0d447293",
   "metadata": {},
   "outputs": [],
   "source": [
    "if (BALANCE_LABELS == True):\n",
    "    from imblearn.under_sampling import RandomUnderSampler\n",
    "    # Separate features and labels\n",
    "    X = df_labelled.drop(input_label_column, axis=1)\n",
    "    y = df_labelled[input_label_column]\n",
    "\n",
    "    # Apply RandomUnderSampler\n",
    "    undersampler = RandomUnderSampler()\n",
    "    X_resampled, y_resampled = undersampler.fit_resample(X, y)\n",
    "\n",
    "    # Combine resampled features and labels into a DataFrame\n",
    "    df_resampled = pd.concat([X_resampled, y_resampled], axis=1)\n",
    "    df_labelled = df_resampled\n",
    "\n",
    "    print(df_resampled[input_label_column].value_counts())"
   ]
  },
  {
   "cell_type": "code",
   "execution_count": 73,
   "id": "020facd7-e462-4f9a-a4a3-1bb185abed9a",
   "metadata": {},
   "outputs": [
    {
     "name": "stdout",
     "output_type": "stream",
     "text": [
      "Labels: ['electoral', 'liberal', 'media', 'participatory']\n"
     ]
    }
   ],
   "source": [
    "# Get label names\n",
    "labels = sorted(df_labelled[output_label_column].dropna().unique())\n",
    "print(f'Labels: {labels}')"
   ]
  },
  {
   "cell_type": "code",
   "execution_count": 74,
   "id": "83645662-fac0-4e9c-ac4d-1126c39b8b93",
   "metadata": {
    "tags": []
   },
   "outputs": [
    {
     "data": {
      "text/plain": [
       "<Axes: ylabel='dimension0'>"
      ]
     },
     "execution_count": 74,
     "metadata": {},
     "output_type": "execute_result"
    },
    {
     "data": {
      "image/png": "[encoded data removed]",
      "text/plain": [
       "<Figure size 640x480 with 1 Axes>"
      ]
     },
     "metadata": {},
     "output_type": "display_data"
    }
   ],
   "source": [
    "# Count the different classes to check how balanced they are\n",
    "value_counts_dimension1 = df_labelled[output_label_column].value_counts()\n",
    "value_counts_dimension1.sort_values().plot(kind=\"barh\")"
   ]
  },
  {
   "cell_type": "code",
   "execution_count": 75,
   "id": "b06f297b-13c1-4775-b201-bc4b0d92d24a",
   "metadata": {},
   "outputs": [],
   "source": [
    "FRACTION_OF_DS_TO_USE = 1\n",
    "MAX_LEN = 512\n",
    "TRAIN_BATCH_SIZE = 8\n",
    "VALID_BATCH_SIZE = 4\n",
    "EPOCHS = 10\n",
    "LEARNING_RATE = 1e-05\n",
    "NO_LABELS = len(labels)\n",
    "MAX_LOSS = 0.01\n",
    "\n",
    "tokenizer = RobertaTokenizer.from_pretrained('roberta-base')\n"
   ]
  },
  {
   "cell_type": "code",
   "execution_count": 76,
   "id": "d8340b0d-717f-4135-a422-a0d9d8e83059",
   "metadata": {},
   "outputs": [
    {
     "data": {
      "text/html": [
       "<div>\n",
       "<style scoped>\n",
       "    .dataframe tbody tr th:only-of-type {\n",
       "        vertical-align: middle;\n",
       "    }\n",
       "\n",
       "    .dataframe tbody tr th {\n",
       "        vertical-align: top;\n",
       "    }\n",
       "\n",
       "    .dataframe thead th {\n",
       "        text-align: right;\n",
       "    }\n",
       "</style>\n",
       "<table border=\"1\" class=\"dataframe\">\n",
       "  <thead>\n",
       "    <tr style=\"text-align: right;\">\n",
       "      <th></th>\n",
       "      <th>sentence</th>\n",
       "      <th>dimension0</th>\n",
       "      <th>label_vector</th>\n",
       "    </tr>\n",
       "  </thead>\n",
       "  <tbody>\n",
       "    <tr>\n",
       "      <th>455438</th>\n",
       "      <td>the draft law on the judicial appointments com...</td>\n",
       "      <td>liberal</td>\n",
       "      <td>[0, 1, 0, 0]</td>\n",
       "    </tr>\n",
       "    <tr>\n",
       "      <th>454014</th>\n",
       "      <td>in 2019, the disposition time continued to dec...</td>\n",
       "      <td>liberal</td>\n",
       "      <td>[0, 1, 0, 0]</td>\n",
       "    </tr>\n",
       "    <tr>\n",
       "      <th>587</th>\n",
       "      <td>\"Members of some minority religions face discr...</td>\n",
       "      <td>liberal</td>\n",
       "      <td>[0, 1, 0, 0]</td>\n",
       "    </tr>\n",
       "    <tr>\n",
       "      <th>25114</th>\n",
       "      <td>\"The Office of the UN High Commissioner for Hu...</td>\n",
       "      <td>liberal</td>\n",
       "      <td>[0, 1, 0, 0]</td>\n",
       "    </tr>\n",
       "    <tr>\n",
       "      <th>455569</th>\n",
       "      <td>general rules and procedures concerning confli...</td>\n",
       "      <td>liberal</td>\n",
       "      <td>[0, 1, 0, 0]</td>\n",
       "    </tr>\n",
       "    <tr>\n",
       "      <th>1417</th>\n",
       "      <td>\"While the SNS and its coalition partners won ...</td>\n",
       "      <td>electoral</td>\n",
       "      <td>[1, 0, 0, 0]</td>\n",
       "    </tr>\n",
       "    <tr>\n",
       "      <th>882</th>\n",
       "      <td>\"Media coverage was largely biased in favor of...</td>\n",
       "      <td>media</td>\n",
       "      <td>[0, 0, 1, 0]</td>\n",
       "    </tr>\n",
       "    <tr>\n",
       "      <th>457826</th>\n",
       "      <td>the government is considering to strengthen th...</td>\n",
       "      <td>liberal</td>\n",
       "      <td>[0, 1, 0, 0]</td>\n",
       "    </tr>\n",
       "    <tr>\n",
       "      <th>311</th>\n",
       "      <td>\"The AfD held seats in the Bundestag and all s...</td>\n",
       "      <td>electoral</td>\n",
       "      <td>[1, 0, 0, 0]</td>\n",
       "    </tr>\n",
       "    <tr>\n",
       "      <th>63370</th>\n",
       "      <td>\"A total of 14 complaints were lodged by Davko...</td>\n",
       "      <td>electoral</td>\n",
       "      <td>[1, 0, 0, 0]</td>\n",
       "    </tr>\n",
       "  </tbody>\n",
       "</table>\n",
       "</div>"
      ],
      "text/plain": [
       "                                                 sentence dimension0  \\\n",
       "455438  the draft law on the judicial appointments com...    liberal   \n",
       "454014  in 2019, the disposition time continued to dec...    liberal   \n",
       "587     \"Members of some minority religions face discr...    liberal   \n",
       "25114   \"The Office of the UN High Commissioner for Hu...    liberal   \n",
       "455569  general rules and procedures concerning confli...    liberal   \n",
       "1417    \"While the SNS and its coalition partners won ...  electoral   \n",
       "882     \"Media coverage was largely biased in favor of...      media   \n",
       "457826  the government is considering to strengthen th...    liberal   \n",
       "311     \"The AfD held seats in the Bundestag and all s...  electoral   \n",
       "63370   \"A total of 14 complaints were lodged by Davko...  electoral   \n",
       "\n",
       "        label_vector  \n",
       "455438  [0, 1, 0, 0]  \n",
       "454014  [0, 1, 0, 0]  \n",
       "587     [0, 1, 0, 0]  \n",
       "25114   [0, 1, 0, 0]  \n",
       "455569  [0, 1, 0, 0]  \n",
       "1417    [1, 0, 0, 0]  \n",
       "882     [0, 0, 1, 0]  \n",
       "457826  [0, 1, 0, 0]  \n",
       "311     [1, 0, 0, 0]  \n",
       "63370   [1, 0, 0, 0]  "
      ]
     },
     "execution_count": 76,
     "metadata": {},
     "output_type": "execute_result"
    }
   ],
   "source": [
    "# Use part of the dataset\n",
    "new_df = df_labelled.sample(frac=FRACTION_OF_DS_TO_USE, random_state=200)\n",
    "# Display a sample of the dataset\n",
    "new_df.sample(10)[['sentence', 'dimension0', 'label_vector']]"
   ]
  },
  {
   "cell_type": "code",
   "execution_count": 77,
   "id": "caf982b0-ceba-4f6a-b82a-de77aa727c83",
   "metadata": {},
   "outputs": [],
   "source": [
    "class CustomDataset(Dataset):\n",
    "\n",
    "    def __init__(self, dataframe, tokenizer, max_len):\n",
    "        self.tokenizer = tokenizer\n",
    "        self.data = dataframe\n",
    "        self.comment_text = dataframe.sentence\n",
    "        self.targets = self.data.label_vector\n",
    "        self.max_len = max_len\n",
    "\n",
    "    def __len__(self):\n",
    "        return len(self.comment_text)\n",
    "\n",
    "    def __getitem__(self, index):\n",
    "        comment_text = str(self.comment_text[index])\n",
    "        comment_text = \" \".join(comment_text.split())\n",
    "\n",
    "        inputs = self.tokenizer.encode_plus(\n",
    "            comment_text,\n",
    "            None,\n",
    "            add_special_tokens=True,\n",
    "            max_length=self.max_len,\n",
    "            padding='max_length',\n",
    "            truncation=True,\n",
    "            return_token_type_ids=True\n",
    "        )\n",
    "        ids = inputs['input_ids']\n",
    "        mask = inputs['attention_mask']\n",
    "        token_type_ids = inputs[\"token_type_ids\"]\n",
    "\n",
    "\n",
    "        return {\n",
    "            'ids': torch.tensor(ids, dtype=torch.long),\n",
    "            'mask': torch.tensor(mask, dtype=torch.long),\n",
    "            'token_type_ids': torch.tensor(token_type_ids, dtype=torch.long),\n",
    "            'targets': torch.tensor(self.targets[index], dtype=torch.float)\n",
    "        }"
   ]
  },
  {
   "cell_type": "code",
   "execution_count": 78,
   "id": "aba08395-2d99-4a90-86e2-b9ae7126776c",
   "metadata": {},
   "outputs": [
    {
     "name": "stdout",
     "output_type": "stream",
     "text": [
      "FULL Dataset: (4470, 24)\n",
      "TRAIN Dataset: (3576, 24)\n",
      "TEST Dataset: (894, 24)\n"
     ]
    }
   ],
   "source": [
    "train_size = 0.8\n",
    "train_dataset=new_df.sample(frac=train_size,random_state=200)\n",
    "test_dataset=new_df.drop(train_dataset.index).reset_index(drop=True)\n",
    "train_dataset = train_dataset.reset_index(drop=True)\n",
    "\n",
    "print(\"FULL Dataset: {}\".format(new_df.shape))\n",
    "print(\"TRAIN Dataset: {}\".format(train_dataset.shape))\n",
    "print(\"TEST Dataset: {}\".format(test_dataset.shape))\n",
    "\n",
    "training_set = CustomDataset(train_dataset, tokenizer, MAX_LEN)\n",
    "testing_set = CustomDataset(test_dataset, tokenizer, MAX_LEN)"
   ]
  },
  {
   "cell_type": "code",
   "execution_count": 79,
   "id": "6d82edb5-41e4-47ed-a8b1-b4604f4182aa",
   "metadata": {},
   "outputs": [
    {
     "data": {
      "text/plain": [
       "<Axes: ylabel='dimension0'>"
      ]
     },
     "execution_count": 79,
     "metadata": {},
     "output_type": "execute_result"
    },
    {
     "data": {
      "image/png": "[encoded data removed]",
      "text/plain": [
       "<Figure size 640x480 with 1 Axes>"
      ]
     },
     "metadata": {},
     "output_type": "display_data"
    }
   ],
   "source": [
    "#value_counts_dimension1_train = train_dataset[output_label_column].value_counts()\n",
    "#value_counts_dimension1_train.sort_values().plot(kind=\"barh\")\n",
    "value_counts_dimension1_test = test_dataset[output_label_column].value_counts()\n",
    "value_counts_dimension1_test.sort_values().plot(kind=\"barh\")"
   ]
  },
  {
   "cell_type": "code",
   "execution_count": 80,
   "id": "56ef5fc2-7e42-492f-b784-60af2502b989",
   "metadata": {},
   "outputs": [],
   "source": [
    "train_params = {'batch_size': TRAIN_BATCH_SIZE,\n",
    "                'shuffle': True,\n",
    "                'num_workers': 0\n",
    "                }\n",
    "\n",
    "test_params = {'batch_size': VALID_BATCH_SIZE,\n",
    "                'shuffle': True,\n",
    "                'num_workers': 0\n",
    "                }\n",
    "\n",
    "training_loader = DataLoader(training_set, **train_params)\n",
    "testing_loader = DataLoader(testing_set, **test_params)"
   ]
  },
  {
   "cell_type": "code",
   "execution_count": 81,
   "id": "63817466-1fa8-4374-98ae-754830ef222d",
   "metadata": {},
   "outputs": [
    {
     "name": "stderr",
     "output_type": "stream",
     "text": [
      "Some weights of RobertaModel were not initialized from the model checkpoint at roberta-base and are newly initialized: ['roberta.pooler.dense.bias', 'roberta.pooler.dense.weight']\n",
      "You should probably TRAIN this model on a down-stream task to be able to use it for predictions and inference.\n"
     ]
    },
    {
     "data": {
      "text/plain": [
       "ROBERTAClass(\n",
       "  (l1): RobertaModel(\n",
       "    (embeddings): RobertaEmbeddings(\n",
       "      (word_embeddings): Embedding(50265, 768, padding_idx=1)\n",
       "      (position_embeddings): Embedding(514, 768, padding_idx=1)\n",
       "      (token_type_embeddings): Embedding(1, 768)\n",
       "      (LayerNorm): LayerNorm((768,), eps=1e-05, elementwise_affine=True)\n",
       "      (dropout): Dropout(p=0.1, inplace=False)\n",
       "    )\n",
       "    (encoder): RobertaEncoder(\n",
       "      (layer): ModuleList(\n",
       "        (0-11): 12 x RobertaLayer(\n",
       "          (attention): RobertaAttention(\n",
       "            (self): RobertaSelfAttention(\n",
       "              (query): Linear(in_features=768, out_features=768, bias=True)\n",
       "              (key): Linear(in_features=768, out_features=768, bias=True)\n",
       "              (value): Linear(in_features=768, out_features=768, bias=True)\n",
       "              (dropout): Dropout(p=0.1, inplace=False)\n",
       "            )\n",
       "            (output): RobertaSelfOutput(\n",
       "              (dense): Linear(in_features=768, out_features=768, bias=True)\n",
       "              (LayerNorm): LayerNorm((768,), eps=1e-05, elementwise_affine=True)\n",
       "              (dropout): Dropout(p=0.1, inplace=False)\n",
       "            )\n",
       "          )\n",
       "          (intermediate): RobertaIntermediate(\n",
       "            (dense): Linear(in_features=768, out_features=3072, bias=True)\n",
       "            (intermediate_act_fn): GELUActivation()\n",
       "          )\n",
       "          (output): RobertaOutput(\n",
       "            (dense): Linear(in_features=3072, out_features=768, bias=True)\n",
       "            (LayerNorm): LayerNorm((768,), eps=1e-05, elementwise_affine=True)\n",
       "            (dropout): Dropout(p=0.1, inplace=False)\n",
       "          )\n",
       "        )\n",
       "      )\n",
       "    )\n",
       "    (pooler): RobertaPooler(\n",
       "      (dense): Linear(in_features=768, out_features=768, bias=True)\n",
       "      (activation): Tanh()\n",
       "    )\n",
       "  )\n",
       "  (l2): Dropout(p=0.3, inplace=False)\n",
       "  (l3): Linear(in_features=768, out_features=4, bias=True)\n",
       ")"
      ]
     },
     "execution_count": 81,
     "metadata": {},
     "output_type": "execute_result"
    }
   ],
   "source": [
    "# Creating the customized model, by adding a drop out and a dense layer on top of distil bert to get the final output for the model. \n",
    "\n",
    "class ROBERTAClass(torch.nn.Module):\n",
    "    def __init__(self):\n",
    "        super(ROBERTAClass, self).__init__()\n",
    "        self.l1 = transformers.RobertaModel.from_pretrained('roberta-base')\n",
    "        self.l2 = torch.nn.Dropout(0.3)\n",
    "        self.l3 = torch.nn.Linear(768, NO_LABELS)\n",
    "    \n",
    "    def forward(self, ids, mask, token_type_ids):\n",
    "        _, output_1= self.l1(ids, attention_mask = mask, token_type_ids = token_type_ids, return_dict=False)\n",
    "        output_2 = self.l2(output_1)\n",
    "        output = self.l3(output_2)\n",
    "        return output\n",
    "\n",
    "model = ROBERTAClass()\n",
    "model.to(device)"
   ]
  },
  {
   "cell_type": "code",
   "execution_count": 82,
   "id": "976033ad-b99d-4064-afd8-c8b1735fff4e",
   "metadata": {},
   "outputs": [],
   "source": [
    "def loss_fn(outputs, targets):\n",
    "    return torch.nn.BCEWithLogitsLoss()(outputs, targets)"
   ]
  },
  {
   "cell_type": "code",
   "execution_count": 83,
   "id": "e4d1e80e-f264-49e5-9246-39c497e48c6b",
   "metadata": {},
   "outputs": [],
   "source": [
    "optimizer = torch.optim.Adam(params =  model.parameters(), lr=LEARNING_RATE)"
   ]
  },
  {
   "cell_type": "code",
   "execution_count": 84,
   "id": "2a6fc239-7a30-447e-8aca-fe460c4ae3a2",
   "metadata": {},
   "outputs": [],
   "source": [
    "def train(epoch):\n",
    "    model.train()\n",
    "    for _,data in enumerate(training_loader, 0):\n",
    "        ids = data['ids'].to(device, dtype = torch.long)\n",
    "        mask = data['mask'].to(device, dtype = torch.long)\n",
    "        token_type_ids = data['token_type_ids'].to(device, dtype = torch.long)\n",
    "        targets = data['targets'].to(device, dtype = torch.float)\n",
    "\n",
    "        outputs = model(ids, mask, token_type_ids)\n",
    "\n",
    "        optimizer.zero_grad()\n",
    "        loss = loss_fn(outputs, targets)\n",
    "        if _%500==0:\n",
    "            print(f'Epoch: {epoch}, Loss:  {loss.item()}')\n",
    "        if loss.item() < MAX_LOSS:\n",
    "            break\n",
    "        \n",
    "        optimizer.zero_grad()\n",
    "        loss.backward()\n",
    "        optimizer.step()\n",
    "    return loss"
   ]
  },
  {
   "cell_type": "code",
   "execution_count": 85,
   "id": "23bc7deb-ef71-4496-a8ae-49419949da33",
   "metadata": {},
   "outputs": [
    {
     "name": "stdout",
     "output_type": "stream",
     "text": [
      "Epoch: 0, Loss:  0.7086969017982483\n",
      "Epoch 0 done\n",
      "Epoch: 1, Loss:  0.12309616804122925\n",
      "Epoch 1 done\n",
      "Epoch: 2, Loss:  0.1718653291463852\n",
      "Epoch 2 done\n",
      "Epoch: 3, Loss:  0.4586658775806427\n",
      "Epoch 3 done\n",
      "Epoch: 4, Loss:  0.0157900582998991\n",
      "Epoch 4 done\n",
      "Loss minimized to below 0.01\n"
     ]
    }
   ],
   "source": [
    "# Train\n",
    "for epoch in range(EPOCHS):\n",
    "    loss = train(epoch)\n",
    "    print(f'Epoch {epoch} done')\n",
    "    if loss.item() < MAX_LOSS:\n",
    "        print(f'Loss minimized to below {MAX_LOSS}')\n",
    "        break"
   ]
  },
  {
   "cell_type": "code",
   "execution_count": 86,
   "id": "92565cc2-618d-4769-baf0-511e9b6f4a64",
   "metadata": {},
   "outputs": [],
   "source": [
    "from sklearn.metrics import confusion_matrix\n",
    "def validation():\n",
    "    model.eval()\n",
    "    fin_targets=[]\n",
    "    fin_outputs=[]\n",
    "    with torch.no_grad():\n",
    "        for _, data in enumerate(testing_loader, 0):\n",
    "            ids = data['ids'].to(device, dtype = torch.long)\n",
    "            mask = data['mask'].to(device, dtype = torch.long)\n",
    "            token_type_ids = data['token_type_ids'].to(device, dtype = torch.long)\n",
    "            targets = data['targets'].to(device, dtype = torch.float)\n",
    "            outputs = model(ids, mask, token_type_ids)\n",
    "            fin_targets.extend(targets.cpu().detach().numpy().tolist())\n",
    "            fin_outputs.extend(torch.sigmoid(outputs).cpu().detach().numpy().tolist())\n",
    "    return fin_outputs, fin_targets"
   ]
  },
  {
   "cell_type": "code",
   "execution_count": 87,
   "id": "63119e24-fa34-4b96-921b-03bc9191ae72",
   "metadata": {},
   "outputs": [],
   "source": [
    "from sklearn.metrics import confusion_matrix\n",
    "def validation_w_confusion():\n",
    "    model.eval()\n",
    "    fin_targets=[]\n",
    "    fin_outputs=[]\n",
    "    i_labels = []\n",
    "    with torch.no_grad():\n",
    "        for i, data in enumerate(testing_loader, 0):\n",
    "            ids = data['ids'].to(device, dtype = torch.long)\n",
    "            mask = data['mask'].to(device, dtype = torch.long)\n",
    "            token_type_ids = data['token_type_ids'].to(device, dtype = torch.long)\n",
    "            targets = data['targets'].to(device, dtype = torch.float)\n",
    "            \n",
    "            outputs = model(ids, mask, token_type_ids)\n",
    "            fin_targets.extend(targets.cpu().detach().numpy().tolist())\n",
    "            fin_outputs.extend(torch.sigmoid(outputs).cpu().detach().numpy().tolist())\n",
    "            i_labels.append(test_dataset.iloc[i][output_label_column])\n",
    "            #print(ids)\n",
    "            #print(targets)\n",
    "            #print(fin_targets)\n",
    "            #print(fin_outputs)\n",
    "            #break\n",
    "\n",
    "    # Convert lists to numpy arrays\n",
    "    fin_targets = np.array(fin_targets)\n",
    "    fin_outputs = np.array(fin_outputs)\n",
    "    \n",
    "    # Get predicted labels by thresholding the predicted probabilities\n",
    "    predicted_labels = (fin_outputs > 0.5).astype(int)\n",
    "    \n",
    "    # Compute confusion matrix\n",
    "    conf_matrix = confusion_matrix(fin_targets.argmax(axis=1), predicted_labels.argmax(axis=1))\n",
    "    return fin_outputs, fin_targets, conf_matrix, i_labels\n",
    "    #return fin_outputs, fin_targets"
   ]
  },
  {
   "cell_type": "code",
   "execution_count": 88,
   "id": "09dee9b5-9845-4514-b1d0-e8d7eae6ae05",
   "metadata": {},
   "outputs": [],
   "source": [
    "# Validation\n",
    "outputs, targets, confusion_matrix, f_labels = validation_w_confusion()\n",
    "outputs_a = np.array(outputs) >= 0.5\n",
    "accuracy = metrics.accuracy_score(targets, outputs_a)\n",
    "f1_score_micro = metrics.f1_score(targets, outputs_a, average='micro', zero_division=1)\n",
    "f1_score_macro = metrics.f1_score(targets, outputs_a, average='macro', zero_division=1)"
   ]
  },
  {
   "cell_type": "code",
   "execution_count": 89,
   "id": "dc137232-a8ed-4b41-b8fa-fcb23ab2c091",
   "metadata": {},
   "outputs": [
    {
     "name": "stdout",
     "output_type": "stream",
     "text": [
      "Accuracy Score = 0.8456375838926175\n",
      "F1 Score (Micro) = 0.8512304250559284\n",
      "F1 Score (Macro) = 0.8244525876878819\n",
      "['electoral', 'liberal', 'media', 'participatory']\n",
      "[[182  20   2   3]\n",
      " [ 22 423   7  23]\n",
      " [  1  10  81   2]\n",
      " [ 13  31   1  73]]\n",
      "\n"
     ]
    }
   ],
   "source": [
    "# Check https://stephenallwright.com/micro-vs-macro-f1-score/\n",
    "result_string = f\"Accuracy Score = {accuracy}\\n\"\n",
    "result_string += f\"F1 Score (Micro) = {f1_score_micro}\\n\"\n",
    "result_string += f\"F1 Score (Macro) = {f1_score_macro}\\n\"\n",
    "result_string += f\"{sorted(set(f_labels))}\\n\"\n",
    "result_string += f\"{confusion_matrix}\\n\"\n",
    "print(result_string)\n"
   ]
  },
  {
   "cell_type": "code",
   "execution_count": 90,
   "id": "8c9720e3-3ad8-4b31-a03b-fc10f73b82f4",
   "metadata": {},
   "outputs": [
    {
     "name": "stdout",
     "output_type": "stream",
     "text": [
      "\"People’s political choices are free from domination by powerful groups that are not democratically accountable.\n"
     ]
    }
   ],
   "source": [
    "# Test our inputs\n",
    "# Choose a sentence\n",
    "#sample_row = new_df.sample()[['sentence', 'label_vector']]\n",
    "sample_row = df_labelled.sample()[['sentence']]\n",
    "sample_text = sample_row['sentence'].values[0]\n",
    "print(sample_text)"
   ]
  },
  {
   "cell_type": "code",
   "execution_count": 91,
   "id": "cc54eafc-5ed3-48f5-9d24-e813d243f1f6",
   "metadata": {},
   "outputs": [
    {
     "name": "stdout",
     "output_type": "stream",
     "text": [
      "electoral: 0.989660382270813\n",
      "liberal: 0.010763878002762794\n",
      "media: 0.00718794297426939\n",
      "participatory: 0.014168509282171726\n"
     ]
    }
   ],
   "source": [
    "def get_dimension_from_prediction(v, l=labels):    \n",
    "    index = v.index(max(v))\n",
    "    if max(v) < 0.5:\n",
    "        return \"NoClass\"\n",
    "    else:\n",
    "        return l[index]\n",
    "    \n",
    "# Encode the sentence\n",
    "encoding = tokenizer.encode_plus(\n",
    "  sample_text.lower(),\n",
    "  add_special_tokens=True,\n",
    "  max_length=MAX_LEN,\n",
    "  padding='max_length',\n",
    "  truncation=True,\n",
    "  return_token_type_ids=True,\n",
    "  return_tensors='pt'\n",
    ")\n",
    "\n",
    "input_ids = encoding[\"input_ids\"]\n",
    "mask = encoding[\"attention_mask\"]\n",
    "token_type_ids = encoding[\"token_type_ids\"]\n",
    "input_ids = input_ids.to(device, dtype=torch.long)\n",
    "mask = mask.to(device, dtype=torch.long)\n",
    "token_type_ids = token_type_ids.to(device, dtype=torch.long)\n",
    "\n",
    "# Inference\n",
    "output = torch.sigmoid(model(input_ids, mask, token_type_ids))\n",
    "predictions = output[0].tolist()\n",
    "for label, prediction in zip(labels, predictions):\n",
    "    print(f\"{label}: {prediction}\")"
   ]
  },
  {
   "cell_type": "code",
   "execution_count": 92,
   "id": "e46c0102-e990-4da2-b6a2-1297260c77ad",
   "metadata": {},
   "outputs": [
    {
     "name": "stdout",
     "output_type": "stream",
     "text": [
      "Statement \"\"People’s political choices are free from domination by powerful groups that are not democratically accountable.\" was classified as: electoral.\n"
     ]
    }
   ],
   "source": [
    "result_dim = get_dimension_from_prediction(predictions)\n",
    "print(f'Statement \"{sample_text}\" was classified as: {result_dim}.')"
   ]
  },
  {
   "cell_type": "code",
   "execution_count": 93,
   "id": "87279a44-baf1-4913-b5d1-05eeb8471fab",
   "metadata": {},
   "outputs": [],
   "source": [
    "# Save model and acc,f1, confusion matrix\n",
    "file_name = '../../data/ROBERTA_dimensions_classifier'\n",
    "if (DROP_AMBIGUOUS == True):    \n",
    "    file_name += '_no_ambiguous'\n",
    "if (BALANCE_LABELS == True):\n",
    "    file_name += '_balanced'\n",
    "else:\n",
    "    file_name += '_unbalanced'\n",
    "    \n",
    "date_str = datetime.now().strftime('_%d%m%y')\n",
    "file_name += date_str\n",
    "    \n",
    "torch.save(model, f'{file_name}.pth')\n",
    "with open(f'{file_name}.txt', 'w') as file:\n",
    "    file.write(result_string)\n"
   ]
  },
  {
   "cell_type": "code",
   "execution_count": 94,
   "id": "8cdeb72e-899d-4cd8-bd94-e3938b616517",
   "metadata": {},
   "outputs": [
    {
     "name": "stdout",
     "output_type": "stream",
     "text": [
      "Saved ../../data/ROBERTA_dimensions_classifier_no_ambiguous_unbalanced_300724.pth at 2024-07-30 10:34:45.201138\n"
     ]
    }
   ],
   "source": [
    "now = datetime.now()\n",
    "print(f\"Saved {file_name}.pth at {now}\")"
   ]
  },
  {
   "cell_type": "code",
   "execution_count": null,
   "id": "5fde8236-3e88-4110-b819-753e62cc8fe1",
   "metadata": {},
   "outputs": [],
   "source": []
  }
 ],
 "metadata": {
  "kernelspec": {
   "display_name": "Python 3 (ipykernel)",
   "language": "python",
   "name": "python3"
  },
  "language_info": {
   "codemirror_mode": {
    "name": "ipython",
    "version": 3
   },
   "file_extension": ".py",
   "mimetype": "text/x-python",
   "name": "python",
   "nbconvert_exporter": "python",
   "pygments_lexer": "ipython3",
   "version": "3.10.12"
  }
 },
 "nbformat": 4,
 "nbformat_minor": 5
}
