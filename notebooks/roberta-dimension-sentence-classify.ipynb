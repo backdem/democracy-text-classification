{
 "cells": [
  {
   "cell_type": "code",
   "execution_count": 1,
   "id": "ff0f3886-7cf5-46a1-88eb-cf78724b0ac1",
   "metadata": {},
   "outputs": [],
   "source": [
    "import pandas as pd\n",
    "import torch\n",
    "from prep_input_data import get_labelled_data\n",
    "from transformers import BertTokenizer, BertModel, BertConfig\n",
    "from transformers import RobertaTokenizer, RobertaModel, RobertaConfig"
   ]
  },
  {
   "cell_type": "code",
   "execution_count": 13,
   "id": "8c467f8d-161b-4cd8-84c4-a5f6226872e2",
   "metadata": {},
   "outputs": [],
   "source": [
    "WITHOUT_AMBIGUOUS_CLASS = True\n",
    "label_column = 'dimension0'\n",
    "corpus_file = '../../data/democracy_reports_corpus_merged_wbacksliding_040724.csv'\n",
    "if (WITHOUT_AMBIGUOUS_CLASS):\n",
    "    model_file = '../../data/ROBERTA_dimensions_classifier_no_ambiguousclass_050724.pth'\n",
    "    output_column = 'predicted_dim_roberta_no_ambiguous'\n",
    "else:\n",
    "    model_file = '../../data/ROBERTA_dimensions_classifier_080724.pth'\n",
    "    output_column = 'predicted_dim_roberta'"
   ]
  },
  {
   "cell_type": "code",
   "execution_count": 14,
   "id": "62a6a407-30f4-40da-b0bc-856cf080d9db",
   "metadata": {},
   "outputs": [
    {
     "name": "stdout",
     "output_type": "stream",
     "text": [
      "                                                 sentence     country  year  \\\n",
      "345037  the rapporteurs appointed were mr dušan drakic...  san-marino  2022   \n",
      "\n",
      "       source dimension1_r1 dimension2_r1 backsliding_r1  start_idea_r1  \\\n",
      "345037  greco           NaN           NaN            NaN            NaN   \n",
      "\n",
      "       dimension0_r2 dimension1_r2  ... dimension2_r3  backsliding_r3  \\\n",
      "345037           NaN           NaN  ...           NaN             NaN   \n",
      "\n",
      "       start_idea_r2 start_idea_r3 dimension0_r1  correct_dimension  \\\n",
      "345037           NaN           NaN           NaN                NaN   \n",
      "\n",
      "        expalained_ambiquous dimension0 correct_backsliding  \\\n",
      "345037                   NaN        NaN                 NaN   \n",
      "\n",
      "       predicted_dim_roberta_no_ambiguous  \n",
      "345037                               None  \n",
      "\n",
      "[1 rows x 24 columns]\n"
     ]
    },
    {
     "name": "stderr",
     "output_type": "stream",
     "text": [
      "/var/folders/pj/wj7m849s68qcg6_lr0j03jgh0000gn/T/ipykernel_57706/114358050.py:1: DtypeWarning: Columns (4,5,6,8,9,10,12,13,14,17,18,19,20,21) have mixed types. Specify dtype option on import or set low_memory=False.\n",
      "  df = pd.read_csv(corpus_file)\n"
     ]
    }
   ],
   "source": [
    "df = pd.read_csv(corpus_file)\n",
    "if (WITHOUT_AMBIGUOUS_CLASS):\n",
    "    df[label_column] = df[label_column].replace({'ambiguous': None})    \n",
    "\n",
    "df[output_column] = None\n",
    "print(df.sample(1))"
   ]
  },
  {
   "cell_type": "code",
   "execution_count": 9,
   "id": "7f229823-2620-48da-9289-23337b0055b0",
   "metadata": {},
   "outputs": [
    {
     "name": "stdout",
     "output_type": "stream",
     "text": [
      "Labels: ['electoral', 'liberal', 'media', 'participatory']\n"
     ]
    }
   ],
   "source": [
    "MAX_LEN = 512\n",
    "device = 'cpu'\n",
    "# Get label names\n",
    "labels = sorted(df[label_column].dropna().unique())\n",
    "print(f'Labels: {labels}')\n",
    "NO_LABELS = len(labels)"
   ]
  },
  {
   "cell_type": "code",
   "execution_count": 15,
   "id": "ade31288-c069-4a22-ba04-e40ab0fd7b38",
   "metadata": {},
   "outputs": [],
   "source": [
    "class ROBERTAClass(torch.nn.Module):\n",
    "    def __init__(self):\n",
    "        super(ROBERTAClass, self).__init__()\n",
    "        self.l1 = transformers.RobertaModel.from_pretrained('roberta-base')\n",
    "        self.l2 = torch.nn.Dropout(0.3)\n",
    "        self.l3 = torch.nn.Linear(768, NO_LABELS)\n",
    "    \n",
    "    def forward(self, ids, mask, token_type_ids):\n",
    "        _, output_1= self.l1(ids, attention_mask = mask, token_type_ids = token_type_ids, return_dict=False)\n",
    "        output_2 = self.l2(output_1)\n",
    "        output = self.l3(output_2)\n",
    "        return output"
   ]
  },
  {
   "cell_type": "code",
   "execution_count": 16,
   "id": "bf68e552-a618-4c41-a007-29937374b18e",
   "metadata": {},
   "outputs": [],
   "source": [
    "# Load model\n",
    "tokenizer_roberta = RobertaTokenizer.from_pretrained('roberta-base', do_lower_case = True)\n",
    "model_roberta = torch.load(model_file)\n",
    "models = [('roberta_base', model_roberta, tokenizer_roberta)]"
   ]
  },
  {
   "cell_type": "code",
   "execution_count": 17,
   "id": "8889aa73-92cc-4382-8e35-9fb9877a14a7",
   "metadata": {},
   "outputs": [],
   "source": [
    "import math\n",
    "def get_dimension_from_prediction(v, l=labels, t=0.5):\n",
    "    m = max(v)\n",
    "    \n",
    "    index = v.index(m)  \n",
    "    if (m < t):\n",
    "        #return f\"bt:{l[index]}:{round(m,3)}\"\n",
    "        return \"no_class\"\n",
    "    return l[index]\n",
    "    \n",
    "def predict_single_sentence(sentence, tokenizer, model):\n",
    "    # Encode the sentence\n",
    "    encoding = tokenizer.encode_plus(\n",
    "      sentence.lower(),\n",
    "      add_special_tokens=True,\n",
    "      max_length=MAX_LEN,\n",
    "      padding='max_length',\n",
    "      truncation=True,\n",
    "      return_token_type_ids=True,\n",
    "      return_tensors='pt'\n",
    "    )\n",
    "    \n",
    "    input_ids = encoding[\"input_ids\"]\n",
    "    mask = encoding[\"attention_mask\"]\n",
    "    token_type_ids = encoding[\"token_type_ids\"]\n",
    "    input_ids = input_ids.to(device, dtype=torch.long)\n",
    "    mask = mask.to(device, dtype=torch.long)\n",
    "    token_type_ids = token_type_ids.to(device, dtype=torch.long)\n",
    "    \n",
    "    # Inference\n",
    "    output = torch.sigmoid(model(input_ids, mask, token_type_ids))\n",
    "    predictions = output[0].tolist()\n",
    "    #for label, prediction in zip(labels, predictions):\n",
    "    #    print(f\"{label}: {prediction}\")\n",
    "    predicted_class = get_dimension_from_prediction(predictions)\n",
    "    #print(predicted_class)\n",
    "    return predicted_class"
   ]
  },
  {
   "cell_type": "code",
   "execution_count": 21,
   "id": "977b2e15-b659-4325-b5a1-ee61efd69b03",
   "metadata": {},
   "outputs": [
    {
     "name": "stdout",
     "output_type": "stream",
     "text": [
      "Classifying using roberta_base number of rows 459931.\n",
      "Progress at row 0: 0.0%. Time remaining 37h 21m.\n",
      "Progress at row 1000: 0.217%. Time remaining 22h 6m.\n",
      "Execution time: 0h 2m.\n"
     ]
    }
   ],
   "source": [
    "import time\n",
    "import math\n",
    "start_time = time.time()\n",
    "df_cleaned = df.dropna(subset=['sentence'])\n",
    "\n",
    "for name, model, tokenizer in models:\n",
    "    no_rows = len(df_cleaned)\n",
    "    print(f'Classifying using {name} number of rows {no_rows}.')\n",
    "    \n",
    "    for index, row in df_cleaned.iterrows():\n",
    "        if (index % 1000 == 0):\n",
    "            time_stamp = time.time()\n",
    "            execution_time = time_stamp - start_time\n",
    "            estimated_time = (execution_time * (no_rows - (index + 1))) / (index + 1)\n",
    "            hours = estimated_time // 3600\n",
    "            remaining_seconds = estimated_time % 3600\n",
    "            minutes = remaining_seconds // 60\n",
    "            #print(f\"estimated execution time: {int(hours)}:{int(minutes)}\")\n",
    "            print(f\"Progress at row {index}: {round((100 * index)/no_rows, 3)}%. Time remaining {int(hours)}h {int(minutes)}m.\")\n",
    "                        \n",
    "        sentence = row['sentence']\n",
    "        df_cleaned.at[index, output_column] = predict_single_sentence(sentence, tokenizer, model)\n",
    "    \n",
    "   \n",
    "end_time = time.time()\n",
    "execution_time = end_time - start_time\n",
    "hours = execution_time // 3600\n",
    "remaining_seconds = execution_time % 3600\n",
    "minutes = remaining_seconds // 60\n",
    "print(f\"Execution time: {int(hours)}h {int(minutes)}m.\")"
   ]
  },
  {
   "cell_type": "code",
   "execution_count": 22,
   "id": "06988106-8ffd-48d7-8629-fb47a12d1cb5",
   "metadata": {},
   "outputs": [
    {
     "name": "stdout",
     "output_type": "stream",
     "text": [
      "../../data/democracy_reports_corpus_predictions_100724.csv\n"
     ]
    }
   ],
   "source": [
    "# save sample\n",
    "from datetime import datetime\n",
    "\n",
    "# Get current date\n",
    "current_date = datetime.now()\n",
    "\n",
    "# Format the date\n",
    "formatted_date = current_date.strftime('%d%m%y')\n",
    "\n",
    "\n",
    "file_name = f\"../../data/democracy_reports_corpus_predictions_{formatted_date}.csv\"\n",
    "print(file_name)\n",
    "df_cleaned.to_csv(file_name, index=False)"
   ]
  },
  {
   "cell_type": "code",
   "execution_count": null,
   "id": "a6d14a44-0055-4417-b5f9-7b2776b7f015",
   "metadata": {},
   "outputs": [],
   "source": []
  }
 ],
 "metadata": {
  "kernelspec": {
   "display_name": "Python 3 (ipykernel)",
   "language": "python",
   "name": "python3"
  },
  "language_info": {
   "codemirror_mode": {
    "name": "ipython",
    "version": 3
   },
   "file_extension": ".py",
   "mimetype": "text/x-python",
   "name": "python",
   "nbconvert_exporter": "python",
   "pygments_lexer": "ipython3",
   "version": "3.11.7"
  }
 },
 "nbformat": 4,
 "nbformat_minor": 5
}
